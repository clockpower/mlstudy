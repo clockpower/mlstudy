{
 "cells": [
  {
   "cell_type": "code",
   "execution_count": 505,
   "id": "13965863",
   "metadata": {},
   "outputs": [],
   "source": [
    "import pandas as pd \n",
    "from pandas import DataFrame"
   ]
  },
  {
   "cell_type": "code",
   "execution_count": 506,
   "id": "36a37230",
   "metadata": {},
   "outputs": [
    {
     "data": {
      "text/plain": [
       "city      object\n",
       "total1     int64\n",
       "total2     int64\n",
       "dtype: object"
      ]
     },
     "execution_count": 506,
     "metadata": {},
     "output_type": "execute_result"
    }
   ],
   "source": [
    "data = DataFrame(\n",
    "    data=[['서울',12000,15000],    ['경기',75000,18000],     ['제주',63000,66000] , ['부산',42000,50000]],\n",
    "        #index=['1','2','3'],\n",
    "        columns=['city','total1','total2']\n",
    "    )\n",
    "\n",
    "data22222 = {'city':['서울','경기','제주','부산']}\n",
    "\n",
    "data.dtypes"
   ]
  },
  {
   "cell_type": "code",
   "execution_count": 507,
   "id": "623b99ea",
   "metadata": {},
   "outputs": [
    {
     "data": {
      "text/plain": [
       "dtype('O')"
      ]
     },
     "execution_count": 507,
     "metadata": {},
     "output_type": "execute_result"
    }
   ],
   "source": [
    "data.city.dtype"
   ]
  },
  {
   "cell_type": "code",
   "execution_count": 508,
   "id": "547398e3",
   "metadata": {},
   "outputs": [
    {
     "data": {
      "text/plain": [
       "city      object\n",
       "total1     int64\n",
       "total2     int64\n",
       "dtype: object"
      ]
     },
     "execution_count": 508,
     "metadata": {},
     "output_type": "execute_result"
    }
   ],
   "source": [
    "data.dtypes"
   ]
  },
  {
   "cell_type": "code",
   "execution_count": 509,
   "id": "67562848",
   "metadata": {},
   "outputs": [],
   "source": [
    "### 자료형 변경~~~~~~~~~~~~~~~ 방법은 여러가지 있어요 \n",
    "\n",
    "# 방법1  apply 함수 \n",
    "# 문법:  데이터프레임.컬럼명.apply(파이썬 기본자료형CLASS 명 )"
   ]
  },
  {
   "cell_type": "code",
   "execution_count": 510,
   "id": "6b8b4eb6",
   "metadata": {},
   "outputs": [
    {
     "data": {
      "text/plain": [
       "0    12000\n",
       "1    75000\n",
       "2    63000\n",
       "3    42000\n",
       "Name: total1, dtype: object"
      ]
     },
     "execution_count": 510,
     "metadata": {},
     "output_type": "execute_result"
    }
   ],
   "source": [
    "data.total1.apply(str)\n",
    "# 복사본에다 적용한것이므로 ,"
   ]
  },
  {
   "cell_type": "code",
   "execution_count": 511,
   "id": "da2a308a",
   "metadata": {},
   "outputs": [
    {
     "data": {
      "text/plain": [
       "city      object\n",
       "total1     int64\n",
       "total2     int64\n",
       "dtype: object"
      ]
     },
     "execution_count": 511,
     "metadata": {},
     "output_type": "execute_result"
    }
   ],
   "source": [
    "data.dtypes # 따로 대입이나 inplace 안되어있으면, 원본에 전혀 반영 안된 것 확인가능! "
   ]
  },
  {
   "cell_type": "code",
   "execution_count": 512,
   "id": "2ebb502a",
   "metadata": {},
   "outputs": [
    {
     "data": {
      "text/plain": [
       "city           object\n",
       "total1          int64\n",
       "total2          int64\n",
       "total2_copy    object\n",
       "dtype: object"
      ]
     },
     "execution_count": 512,
     "metadata": {},
     "output_type": "execute_result"
    }
   ],
   "source": [
    "# total2 를 문자열로 변환후 total2_copy 컬럼추가\n",
    "\n",
    "# 판다스에서 문자열이  object 로 나온다.\n",
    "\n",
    "data['total2'].apply(str)\n",
    "data.total2.apply(str)\n",
    "\n",
    "data['total2_copy']= data.total2.apply(str)\n",
    "data.dtypes"
   ]
  },
  {
   "cell_type": "code",
   "execution_count": 513,
   "id": "72d69052",
   "metadata": {},
   "outputs": [
    {
     "data": {
      "text/plain": [
       "city           object\n",
       "total1          int64\n",
       "total2          int64\n",
       "total2_copy    object\n",
       "dtype: object"
      ]
     },
     "execution_count": 513,
     "metadata": {},
     "output_type": "execute_result"
    }
   ],
   "source": [
    "data = DataFrame(\n",
    "data=[['서울',12000,15000],    ['경기',75000,18000],     ['제주',63000,66000] , ['부산',42000,50000]],\n",
    "    #index=['1','2','3'],\n",
    "    columns=['city','total1','total2']\n",
    ")\n",
    "data['total2'].apply(str)\n",
    "data.total2.apply(str)\n",
    "\n",
    "data['total2_copy']= data.total2.apply(str)\n",
    "data.dtypes"
   ]
  },
  {
   "cell_type": "code",
   "execution_count": 514,
   "id": "3aa4e1c7",
   "metadata": {},
   "outputs": [
    {
     "data": {
      "text/html": [
       "<div>\n",
       "<style scoped>\n",
       "    .dataframe tbody tr th:only-of-type {\n",
       "        vertical-align: middle;\n",
       "    }\n",
       "\n",
       "    .dataframe tbody tr th {\n",
       "        vertical-align: top;\n",
       "    }\n",
       "\n",
       "    .dataframe thead th {\n",
       "        text-align: right;\n",
       "    }\n",
       "</style>\n",
       "<table border=\"1\" class=\"dataframe\">\n",
       "  <thead>\n",
       "    <tr style=\"text-align: right;\">\n",
       "      <th></th>\n",
       "      <th>city</th>\n",
       "      <th>total1</th>\n",
       "      <th>total2</th>\n",
       "      <th>total2_copy</th>\n",
       "    </tr>\n",
       "  </thead>\n",
       "  <tbody>\n",
       "    <tr>\n",
       "      <th>0</th>\n",
       "      <td>서울</td>\n",
       "      <td>12000</td>\n",
       "      <td>15000</td>\n",
       "      <td>15000</td>\n",
       "    </tr>\n",
       "    <tr>\n",
       "      <th>1</th>\n",
       "      <td>경기</td>\n",
       "      <td>75000</td>\n",
       "      <td>18000</td>\n",
       "      <td>18000</td>\n",
       "    </tr>\n",
       "    <tr>\n",
       "      <th>2</th>\n",
       "      <td>제주</td>\n",
       "      <td>63000</td>\n",
       "      <td>66000</td>\n",
       "      <td>66000</td>\n",
       "    </tr>\n",
       "    <tr>\n",
       "      <th>3</th>\n",
       "      <td>부산</td>\n",
       "      <td>42000</td>\n",
       "      <td>50000</td>\n",
       "      <td>50000</td>\n",
       "    </tr>\n",
       "  </tbody>\n",
       "</table>\n",
       "</div>"
      ],
      "text/plain": [
       "  city  total1  total2 total2_copy\n",
       "0   서울   12000   15000       15000\n",
       "1   경기   75000   18000       18000\n",
       "2   제주   63000   66000       66000\n",
       "3   부산   42000   50000       50000"
      ]
     },
     "execution_count": 514,
     "metadata": {},
     "output_type": "execute_result"
    }
   ],
   "source": [
    "data"
   ]
  },
  {
   "cell_type": "code",
   "execution_count": 515,
   "id": "75cf03ff",
   "metadata": {},
   "outputs": [
    {
     "data": {
      "text/plain": [
       "city           object\n",
       "total1          int64\n",
       "total2          int64\n",
       "total2_copy     int64\n",
       "dtype: object"
      ]
     },
     "execution_count": 515,
     "metadata": {},
     "output_type": "execute_result"
    }
   ],
   "source": [
    "##방법2  to_numeric 함수, \n",
    "# pandas.to_numeric(데이터프레임['컬럼명'])\n",
    "##\\object to int \n",
    "data['total2_copy'] = pd.to_numeric(data['total2_copy'])    \n",
    "data.dtypes"
   ]
  },
  {
   "cell_type": "code",
   "execution_count": 516,
   "id": "05a552ed",
   "metadata": {},
   "outputs": [
    {
     "data": {
      "text/plain": [
       "0    12000.0\n",
       "1    75000.0\n",
       "2    63000.0\n",
       "3    42000.0\n",
       "Name: total1, dtype: float64"
      ]
     },
     "execution_count": 516,
     "metadata": {},
     "output_type": "execute_result"
    }
   ],
   "source": [
    "'''\n",
    "방법3 astype 함수 \n",
    "1 - 데이터프레임['컬럼명'].astype(자료형)\n",
    "2 - 데이터프레임.astype({'컬럼명' : 자료형, '컬럼명' : 자료형})\n",
    "\n",
    "열거적으로 선언해서 데이터프레임을 생성해줄수있다! \n",
    "\n",
    "\n",
    "'''\n",
    "\n",
    "data['total1'].astype(float)\n",
    "\n",
    "\n",
    "\n"
   ]
  },
  {
   "cell_type": "code",
   "execution_count": 517,
   "id": "7d5fcd2a",
   "metadata": {},
   "outputs": [
    {
     "data": {
      "text/plain": [
       "0    12000.0\n",
       "1    75000.0\n",
       "2    63000.0\n",
       "3    42000.0\n",
       "Name: total1, dtype: float32"
      ]
     },
     "execution_count": 517,
     "metadata": {},
     "output_type": "execute_result"
    }
   ],
   "source": [
    "# float32는 파이썬의 기본자료형이 아님! \n",
    "# 아니라면 그럼 못쓰나? 그것도아니다.  문자열도 먹여주면 된다. \n",
    "# 판다스 라이브러리는 float32 도지원해주기때문이다. \n",
    "data['total1'].astype('float32')"
   ]
  },
  {
   "cell_type": "code",
   "execution_count": 518,
   "id": "a684744d",
   "metadata": {},
   "outputs": [
    {
     "data": {
      "text/plain": [
       "0    12000\n",
       "1    75000\n",
       "2    63000\n",
       "3    42000\n",
       "Name: total1, dtype: int64"
      ]
     },
     "execution_count": 518,
     "metadata": {},
     "output_type": "execute_result"
    }
   ],
   "source": [
    "#data['total1'].astype(int64)#에러남\n",
    "data['total1'].astype('int64')#에러안남"
   ]
  },
  {
   "cell_type": "code",
   "execution_count": 519,
   "id": "b2ccc49c",
   "metadata": {},
   "outputs": [
    {
     "data": {
      "text/plain": [
       "city           object\n",
       "total1          int64\n",
       "total2          int64\n",
       "total2_copy     int64\n",
       "dtype: object"
      ]
     },
     "execution_count": 519,
     "metadata": {},
     "output_type": "execute_result"
    }
   ],
   "source": [
    "'''\n",
    "\n",
    "astype 으로 한 컬럼만 변경했다. \n",
    "2개이상의 타입을 한꺼번에 바꾸려면 어떻게하는가. \n",
    "\n",
    "'''\n",
    "data.dtypes"
   ]
  },
  {
   "cell_type": "code",
   "execution_count": 520,
   "id": "3e16ddad",
   "metadata": {},
   "outputs": [
    {
     "name": "stdout",
     "output_type": "stream",
     "text": [
      "  city  total1  total2  total2_copy\n",
      "0   서울   12000   15000        15000\n",
      "1   경기   75000   18000        18000\n",
      "2   제주   63000   66000        66000\n",
      "3   부산   42000   50000        50000\n"
     ]
    },
    {
     "data": {
      "text/plain": [
       "city            object\n",
       "total1           int32\n",
       "total2         float64\n",
       "total2_copy      int64\n",
       "dtype: object"
      ]
     },
     "execution_count": 520,
     "metadata": {},
     "output_type": "execute_result"
    }
   ],
   "source": [
    "print(data)\n",
    "data= data.astype({'total1':int , 'total2': 'float'})\n",
    "'''\n",
    "data.astype({'total1':int , 'total2': 'int64'}) \n",
    "는 작업 결과를 복사한 데이터뭉치를 return 해준다.\n",
    "\n",
    "data = data.astype({'total1':int , 'total2': 'int64'}) 를 하면\n",
    "data 에 새로 작업결과로 복사된 녀석이 할당된다는 것을 알수있다. \n",
    "\n",
    "'''\n",
    "data.dtypes"
   ]
  },
  {
   "cell_type": "code",
   "execution_count": 521,
   "id": "a97c846d",
   "metadata": {},
   "outputs": [
    {
     "data": {
      "text/html": [
       "<div>\n",
       "<style scoped>\n",
       "    .dataframe tbody tr th:only-of-type {\n",
       "        vertical-align: middle;\n",
       "    }\n",
       "\n",
       "    .dataframe tbody tr th {\n",
       "        vertical-align: top;\n",
       "    }\n",
       "\n",
       "    .dataframe thead th {\n",
       "        text-align: right;\n",
       "    }\n",
       "</style>\n",
       "<table border=\"1\" class=\"dataframe\">\n",
       "  <thead>\n",
       "    <tr style=\"text-align: right;\">\n",
       "      <th></th>\n",
       "      <th>city</th>\n",
       "      <th>total1</th>\n",
       "      <th>total2</th>\n",
       "      <th>total2_copy</th>\n",
       "    </tr>\n",
       "  </thead>\n",
       "  <tbody>\n",
       "    <tr>\n",
       "      <th>0</th>\n",
       "      <td>서울</td>\n",
       "      <td>12000</td>\n",
       "      <td>15000.0</td>\n",
       "      <td>15000</td>\n",
       "    </tr>\n",
       "    <tr>\n",
       "      <th>1</th>\n",
       "      <td>경기</td>\n",
       "      <td>75000</td>\n",
       "      <td>18000.0</td>\n",
       "      <td>18000</td>\n",
       "    </tr>\n",
       "    <tr>\n",
       "      <th>2</th>\n",
       "      <td>제주</td>\n",
       "      <td>63000</td>\n",
       "      <td>66000.0</td>\n",
       "      <td>66000</td>\n",
       "    </tr>\n",
       "    <tr>\n",
       "      <th>3</th>\n",
       "      <td>부산</td>\n",
       "      <td>42000</td>\n",
       "      <td>50000.0</td>\n",
       "      <td>50000</td>\n",
       "    </tr>\n",
       "  </tbody>\n",
       "</table>\n",
       "</div>"
      ],
      "text/plain": [
       "  city  total1   total2  total2_copy\n",
       "0   서울   12000  15000.0        15000\n",
       "1   경기   75000  18000.0        18000\n",
       "2   제주   63000  66000.0        66000\n",
       "3   부산   42000  50000.0        50000"
      ]
     },
     "execution_count": 521,
     "metadata": {},
     "output_type": "execute_result"
    }
   ],
   "source": [
    "data"
   ]
  },
  {
   "cell_type": "code",
   "execution_count": 522,
   "id": "1c319a0c",
   "metadata": {},
   "outputs": [
    {
     "data": {
      "text/plain": [
       "city            object\n",
       "total1           int32\n",
       "total2         float64\n",
       "total2_copy      int64\n",
       "dtype: object"
      ]
     },
     "execution_count": 522,
     "metadata": {},
     "output_type": "execute_result"
    }
   ],
   "source": [
    "data.dtypes    "
   ]
  },
  {
   "cell_type": "code",
   "execution_count": 523,
   "id": "ac578c0b",
   "metadata": {},
   "outputs": [],
   "source": [
    " # 경기의 total2_copy 값을 '없음' 으로 변경하면?\n",
    "\n",
    "data.loc[1, 'total2_copy']  ='없음'\n",
    "  # 없음 이 들어오자마자  type 가 object 로 변경됨"
   ]
  },
  {
   "cell_type": "code",
   "execution_count": 524,
   "id": "10a8cf6c",
   "metadata": {},
   "outputs": [
    {
     "data": {
      "text/plain": [
       "city            object\n",
       "total1           int32\n",
       "total2         float64\n",
       "total2_copy     object\n",
       "dtype: object"
      ]
     },
     "execution_count": 524,
     "metadata": {},
     "output_type": "execute_result"
    }
   ],
   "source": [
    "data.dtypes  "
   ]
  },
  {
   "cell_type": "code",
   "execution_count": 525,
   "id": "0911df1f",
   "metadata": {},
   "outputs": [
    {
     "data": {
      "text/plain": [
       "0    15000.0\n",
       "1        NaN\n",
       "2    66000.0\n",
       "3    50000.0\n",
       "Name: total2_copy, dtype: float64"
      ]
     },
     "execution_count": 525,
     "metadata": {},
     "output_type": "execute_result"
    }
   ],
   "source": [
    "# 그러면 이걸또 int 로 바꾸려고해요. \n",
    "# 없음을 0 으로 바꿔주는 로직이 필요하다. \n",
    "\n",
    "# int 로강제 변환? \n",
    "#  비 int 는 default 인 0 으로 변화시켜주는 편리한 로직 있음 좋겠다. . . \n",
    "\n",
    "#data['total2_copy'].apply(pd.to_numeric)\n",
    "# 용법, ValueError: Unable to parse string \"없음\" \n",
    "data['total2_copy'].apply(pd.to_numeric, errors='coerce')\n",
    "# coerce 를 먹여준다.\n",
    "#data['total2_copy'].apply(int, errors='coerce')\n",
    "# int 는 또 지원을 안한다.  errors 라는 매개변수를 지원을안해요 \n",
    "# to_numeric 에서만 지원해요;."
   ]
  },
  {
   "cell_type": "code",
   "execution_count": 526,
   "id": "d2f5ac5e",
   "metadata": {},
   "outputs": [
    {
     "data": {
      "text/plain": [
       "0    15000\n",
       "1       없음\n",
       "2    66000\n",
       "3    50000\n",
       "Name: total2_copy, dtype: object"
      ]
     },
     "execution_count": 526,
     "metadata": {},
     "output_type": "execute_result"
    }
   ],
   "source": [
    "data['total2_copy'].astype(int, errors='ignore')\n",
    "# ValueError: invalid literal for int() with base 10: '없음'\n",
    "# ignore 을먹여주면 에러는 안나고 그냥 팅긴다. 변하지 않는다. \n",
    "# 디폴트로 errors: str = \"raise\") \n",
    "# 가 먹여져 있어서 에러가 난거에요 . \n",
    "\n"
   ]
  },
  {
   "cell_type": "code",
   "execution_count": 527,
   "id": "982c90a9",
   "metadata": {},
   "outputs": [
    {
     "data": {
      "text/html": [
       "<div>\n",
       "<style scoped>\n",
       "    .dataframe tbody tr th:only-of-type {\n",
       "        vertical-align: middle;\n",
       "    }\n",
       "\n",
       "    .dataframe tbody tr th {\n",
       "        vertical-align: top;\n",
       "    }\n",
       "\n",
       "    .dataframe thead th {\n",
       "        text-align: right;\n",
       "    }\n",
       "</style>\n",
       "<table border=\"1\" class=\"dataframe\">\n",
       "  <thead>\n",
       "    <tr style=\"text-align: right;\">\n",
       "      <th></th>\n",
       "      <th>city</th>\n",
       "      <th>total1</th>\n",
       "      <th>total2</th>\n",
       "      <th>total2_copy</th>\n",
       "    </tr>\n",
       "  </thead>\n",
       "  <tbody>\n",
       "    <tr>\n",
       "      <th>0</th>\n",
       "      <td>서울</td>\n",
       "      <td>12000</td>\n",
       "      <td>15000.0</td>\n",
       "      <td>15000.0</td>\n",
       "    </tr>\n",
       "    <tr>\n",
       "      <th>1</th>\n",
       "      <td>경기</td>\n",
       "      <td>75000</td>\n",
       "      <td>18000.0</td>\n",
       "      <td>NaN</td>\n",
       "    </tr>\n",
       "    <tr>\n",
       "      <th>2</th>\n",
       "      <td>제주</td>\n",
       "      <td>63000</td>\n",
       "      <td>66000.0</td>\n",
       "      <td>66000.0</td>\n",
       "    </tr>\n",
       "    <tr>\n",
       "      <th>3</th>\n",
       "      <td>부산</td>\n",
       "      <td>42000</td>\n",
       "      <td>50000.0</td>\n",
       "      <td>50000.0</td>\n",
       "    </tr>\n",
       "  </tbody>\n",
       "</table>\n",
       "</div>"
      ],
      "text/plain": [
       "  city  total1   total2  total2_copy\n",
       "0   서울   12000  15000.0      15000.0\n",
       "1   경기   75000  18000.0          NaN\n",
       "2   제주   63000  66000.0      66000.0\n",
       "3   부산   42000  50000.0      50000.0"
      ]
     },
     "execution_count": 527,
     "metadata": {},
     "output_type": "execute_result"
    }
   ],
   "source": [
    "data['total2_copy']= data['total2_copy'].apply(pd.to_numeric, errors='coerce')\n",
    "# coerce 는 먹여지지 않는다.\n",
    "data \n",
    "# Nan 으로 나온 부분 ->> 손실 되었다. "
   ]
  },
  {
   "cell_type": "code",
   "execution_count": 528,
   "id": "f9817af6",
   "metadata": {},
   "outputs": [
    {
     "name": "stdout",
     "output_type": "stream",
     "text": [
      "<class 'pandas.core.frame.DataFrame'>\n",
      "RangeIndex: 4 entries, 0 to 3\n",
      "Data columns (total 4 columns):\n",
      " #   Column       Non-Null Count  Dtype  \n",
      "---  ------       --------------  -----  \n",
      " 0   city         4 non-null      object \n",
      " 1   total1       4 non-null      int32  \n",
      " 2   total2       4 non-null      float64\n",
      " 3   total2_copy  3 non-null      float64\n",
      "dtypes: float64(2), int32(1), object(1)\n",
      "memory usage: 240.0+ bytes\n"
     ]
    }
   ],
   "source": [
    "## 결측치를 확인해보기\n",
    "data.info()\n",
    "\n",
    "# 결측치 케이스 \n",
    "# Na , Nan , Null "
   ]
  },
  {
   "cell_type": "code",
   "execution_count": 529,
   "id": "dc24122a",
   "metadata": {},
   "outputs": [
    {
     "data": {
      "text/html": [
       "<div>\n",
       "<style scoped>\n",
       "    .dataframe tbody tr th:only-of-type {\n",
       "        vertical-align: middle;\n",
       "    }\n",
       "\n",
       "    .dataframe tbody tr th {\n",
       "        vertical-align: top;\n",
       "    }\n",
       "\n",
       "    .dataframe thead th {\n",
       "        text-align: right;\n",
       "    }\n",
       "</style>\n",
       "<table border=\"1\" class=\"dataframe\">\n",
       "  <thead>\n",
       "    <tr style=\"text-align: right;\">\n",
       "      <th></th>\n",
       "      <th>city</th>\n",
       "      <th>total1</th>\n",
       "      <th>total2</th>\n",
       "      <th>total2_copy</th>\n",
       "    </tr>\n",
       "  </thead>\n",
       "  <tbody>\n",
       "    <tr>\n",
       "      <th>0</th>\n",
       "      <td>False</td>\n",
       "      <td>False</td>\n",
       "      <td>False</td>\n",
       "      <td>False</td>\n",
       "    </tr>\n",
       "    <tr>\n",
       "      <th>1</th>\n",
       "      <td>False</td>\n",
       "      <td>False</td>\n",
       "      <td>False</td>\n",
       "      <td>True</td>\n",
       "    </tr>\n",
       "    <tr>\n",
       "      <th>2</th>\n",
       "      <td>False</td>\n",
       "      <td>False</td>\n",
       "      <td>False</td>\n",
       "      <td>False</td>\n",
       "    </tr>\n",
       "    <tr>\n",
       "      <th>3</th>\n",
       "      <td>False</td>\n",
       "      <td>False</td>\n",
       "      <td>False</td>\n",
       "      <td>False</td>\n",
       "    </tr>\n",
       "  </tbody>\n",
       "</table>\n",
       "</div>"
      ],
      "text/plain": [
       "    city  total1  total2  total2_copy\n",
       "0  False   False   False        False\n",
       "1  False   False   False         True\n",
       "2  False   False   False        False\n",
       "3  False   False   False        False"
      ]
     },
     "execution_count": 529,
     "metadata": {},
     "output_type": "execute_result"
    }
   ],
   "source": [
    "#결측치 확인 : 마스크(논리값)\n",
    "data.isnull()\n",
    "data.isna()# data.isnull() 와 같은 함수다!"
   ]
  },
  {
   "cell_type": "code",
   "execution_count": 530,
   "id": "bdfa7ea5",
   "metadata": {},
   "outputs": [
    {
     "data": {
      "text/plain": [
       "0    False\n",
       "1     True\n",
       "2    False\n",
       "3    False\n",
       "Name: total2_copy, dtype: bool"
      ]
     },
     "execution_count": 530,
     "metadata": {},
     "output_type": "execute_result"
    }
   ],
   "source": [
    "# 특정 컬럼에 대해서 결측치를 확인한다. : 마스크 활용\n",
    "data['total2_copy'].isna()"
   ]
  },
  {
   "cell_type": "code",
   "execution_count": 531,
   "id": "d1bb585b",
   "metadata": {},
   "outputs": [
    {
     "data": {
      "text/html": [
       "<div>\n",
       "<style scoped>\n",
       "    .dataframe tbody tr th:only-of-type {\n",
       "        vertical-align: middle;\n",
       "    }\n",
       "\n",
       "    .dataframe tbody tr th {\n",
       "        vertical-align: top;\n",
       "    }\n",
       "\n",
       "    .dataframe thead th {\n",
       "        text-align: right;\n",
       "    }\n",
       "</style>\n",
       "<table border=\"1\" class=\"dataframe\">\n",
       "  <thead>\n",
       "    <tr style=\"text-align: right;\">\n",
       "      <th></th>\n",
       "      <th>city</th>\n",
       "      <th>total1</th>\n",
       "      <th>total2</th>\n",
       "      <th>total2_copy</th>\n",
       "    </tr>\n",
       "  </thead>\n",
       "  <tbody>\n",
       "    <tr>\n",
       "      <th>1</th>\n",
       "      <td>경기</td>\n",
       "      <td>75000</td>\n",
       "      <td>18000.0</td>\n",
       "      <td>NaN</td>\n",
       "    </tr>\n",
       "  </tbody>\n",
       "</table>\n",
       "</div>"
      ],
      "text/plain": [
       "  city  total1   total2  total2_copy\n",
       "1   경기   75000  18000.0          NaN"
      ]
     },
     "execution_count": 531,
     "metadata": {},
     "output_type": "execute_result"
    }
   ],
   "source": [
    "#전체 프레임에 대해서 isnull 해줄필요가없지 실전에서는, \n",
    "# 삐꾸나는 컬럼은 전체 컬럼 20개중에서 소수일뿐이다. \n",
    "# 전체 대상으로 마스크를 만들필요는 없는거지.\n",
    "# 마스크 만들어서, 심어주는 것이다. \n",
    "# 기존 데이터프레임에 삽입 되도록 하기.ㅣ\n",
    "# 결측치 행만을 추출하려면???? \n",
    "data[data['total2_copy'].isna()]\n",
    "\n",
    "#결측치 들어있는 행을 삭제할때가 있고, \n",
    "#열을 삭제할때가 있다. \n",
    "\n",
    "#근데 이 행을 진짜 삭제해도 되는가? 확인 할때 이 기능을 활용할수있겠다. \n",
    "\n",
    "data.loc[data['total2_copy'].isna()]\n",
    "\n",
    "# iloc 는 못쓰죠 여기엔 인덱스 와야하니까. 쓸려면 문제가 되겠죠. \n",
    "\n"
   ]
  },
  {
   "cell_type": "code",
   "execution_count": 532,
   "id": "c3d81e09",
   "metadata": {},
   "outputs": [
    {
     "data": {
      "text/html": [
       "<div>\n",
       "<style scoped>\n",
       "    .dataframe tbody tr th:only-of-type {\n",
       "        vertical-align: middle;\n",
       "    }\n",
       "\n",
       "    .dataframe tbody tr th {\n",
       "        vertical-align: top;\n",
       "    }\n",
       "\n",
       "    .dataframe thead th {\n",
       "        text-align: right;\n",
       "    }\n",
       "</style>\n",
       "<table border=\"1\" class=\"dataframe\">\n",
       "  <thead>\n",
       "    <tr style=\"text-align: right;\">\n",
       "      <th></th>\n",
       "      <th>city</th>\n",
       "      <th>total1</th>\n",
       "      <th>total2</th>\n",
       "      <th>total2_copy</th>\n",
       "    </tr>\n",
       "  </thead>\n",
       "  <tbody>\n",
       "    <tr>\n",
       "      <th>0</th>\n",
       "      <td>서울</td>\n",
       "      <td>12000</td>\n",
       "      <td>15000.0</td>\n",
       "      <td>15000.0</td>\n",
       "    </tr>\n",
       "    <tr>\n",
       "      <th>1</th>\n",
       "      <td>경기</td>\n",
       "      <td>75000</td>\n",
       "      <td>18000.0</td>\n",
       "      <td>NaN</td>\n",
       "    </tr>\n",
       "    <tr>\n",
       "      <th>2</th>\n",
       "      <td>제주</td>\n",
       "      <td>63000</td>\n",
       "      <td>66000.0</td>\n",
       "      <td>66000.0</td>\n",
       "    </tr>\n",
       "    <tr>\n",
       "      <th>3</th>\n",
       "      <td>부산</td>\n",
       "      <td>42000</td>\n",
       "      <td>50000.0</td>\n",
       "      <td>50000.0</td>\n",
       "    </tr>\n",
       "  </tbody>\n",
       "</table>\n",
       "</div>"
      ],
      "text/plain": [
       "  city  total1   total2  total2_copy\n",
       "0   서울   12000  15000.0      15000.0\n",
       "1   경기   75000  18000.0          NaN\n",
       "2   제주   63000  66000.0      66000.0\n",
       "3   부산   42000  50000.0      50000.0"
      ]
     },
     "execution_count": 532,
     "metadata": {},
     "output_type": "execute_result"
    }
   ],
   "source": [
    "#데이터프레임 복사\n",
    "data_copy = data\n",
    "data_copy"
   ]
  },
  {
   "cell_type": "code",
   "execution_count": 533,
   "id": "99f148a5",
   "metadata": {},
   "outputs": [
    {
     "data": {
      "text/html": [
       "<div>\n",
       "<style scoped>\n",
       "    .dataframe tbody tr th:only-of-type {\n",
       "        vertical-align: middle;\n",
       "    }\n",
       "\n",
       "    .dataframe tbody tr th {\n",
       "        vertical-align: top;\n",
       "    }\n",
       "\n",
       "    .dataframe thead th {\n",
       "        text-align: right;\n",
       "    }\n",
       "</style>\n",
       "<table border=\"1\" class=\"dataframe\">\n",
       "  <thead>\n",
       "    <tr style=\"text-align: right;\">\n",
       "      <th></th>\n",
       "      <th>city</th>\n",
       "      <th>total1</th>\n",
       "      <th>total2</th>\n",
       "      <th>total2_copy</th>\n",
       "    </tr>\n",
       "  </thead>\n",
       "  <tbody>\n",
       "    <tr>\n",
       "      <th>0</th>\n",
       "      <td>서울</td>\n",
       "      <td>12000</td>\n",
       "      <td>15000.0</td>\n",
       "      <td>15000.0</td>\n",
       "    </tr>\n",
       "    <tr>\n",
       "      <th>1</th>\n",
       "      <td>경기</td>\n",
       "      <td>75000</td>\n",
       "      <td>18000.0</td>\n",
       "      <td>NaN</td>\n",
       "    </tr>\n",
       "    <tr>\n",
       "      <th>2</th>\n",
       "      <td>제주</td>\n",
       "      <td>63000</td>\n",
       "      <td>20.0</td>\n",
       "      <td>66000.0</td>\n",
       "    </tr>\n",
       "    <tr>\n",
       "      <th>3</th>\n",
       "      <td>부산</td>\n",
       "      <td>42000</td>\n",
       "      <td>50000.0</td>\n",
       "      <td>50000.0</td>\n",
       "    </tr>\n",
       "  </tbody>\n",
       "</table>\n",
       "</div>"
      ],
      "text/plain": [
       "  city  total1   total2  total2_copy\n",
       "0   서울   12000  15000.0      15000.0\n",
       "1   경기   75000  18000.0          NaN\n",
       "2   제주   63000     20.0      66000.0\n",
       "3   부산   42000  50000.0      50000.0"
      ]
     },
     "execution_count": 533,
     "metadata": {},
     "output_type": "execute_result"
    }
   ],
   "source": [
    "#복사체의 값 변경\n",
    "data_copy.loc[2,'total2'] = 20\n",
    "data_copy"
   ]
  },
  {
   "cell_type": "code",
   "execution_count": 534,
   "id": "16c1b8e1",
   "metadata": {},
   "outputs": [
    {
     "data": {
      "text/html": [
       "<div>\n",
       "<style scoped>\n",
       "    .dataframe tbody tr th:only-of-type {\n",
       "        vertical-align: middle;\n",
       "    }\n",
       "\n",
       "    .dataframe tbody tr th {\n",
       "        vertical-align: top;\n",
       "    }\n",
       "\n",
       "    .dataframe thead th {\n",
       "        text-align: right;\n",
       "    }\n",
       "</style>\n",
       "<table border=\"1\" class=\"dataframe\">\n",
       "  <thead>\n",
       "    <tr style=\"text-align: right;\">\n",
       "      <th></th>\n",
       "      <th>city</th>\n",
       "      <th>total1</th>\n",
       "      <th>total2</th>\n",
       "      <th>total2_copy</th>\n",
       "    </tr>\n",
       "  </thead>\n",
       "  <tbody>\n",
       "    <tr>\n",
       "      <th>0</th>\n",
       "      <td>서울</td>\n",
       "      <td>12000</td>\n",
       "      <td>15000.0</td>\n",
       "      <td>15000.0</td>\n",
       "    </tr>\n",
       "    <tr>\n",
       "      <th>1</th>\n",
       "      <td>경기</td>\n",
       "      <td>75000</td>\n",
       "      <td>18000.0</td>\n",
       "      <td>NaN</td>\n",
       "    </tr>\n",
       "    <tr>\n",
       "      <th>2</th>\n",
       "      <td>제주</td>\n",
       "      <td>63000</td>\n",
       "      <td>20.0</td>\n",
       "      <td>66000.0</td>\n",
       "    </tr>\n",
       "    <tr>\n",
       "      <th>3</th>\n",
       "      <td>부산</td>\n",
       "      <td>42000</td>\n",
       "      <td>50000.0</td>\n",
       "      <td>50000.0</td>\n",
       "    </tr>\n",
       "  </tbody>\n",
       "</table>\n",
       "</div>"
      ],
      "text/plain": [
       "  city  total1   total2  total2_copy\n",
       "0   서울   12000  15000.0      15000.0\n",
       "1   경기   75000  18000.0          NaN\n",
       "2   제주   63000     20.0      66000.0\n",
       "3   부산   42000  50000.0      50000.0"
      ]
     },
     "execution_count": 534,
     "metadata": {},
     "output_type": "execute_result"
    }
   ],
   "source": [
    "data\n",
    "# 주소만 복사하면,  1개의 데이터프레임을 2개의 alias 만 추가된꼴이다.\n",
    "\n",
    "# 새 데이터프레임 객체를 생성하기위한 진짜복사가 필요하다!! \n",
    "\n",
    "\n",
    "# 얕은 복사 -->> 주소복사  -->> 원본은 그대로, alias 만 추가된것.\n",
    "# 깊은 복사 -->> 메모리복사 -->> 원본의 복제본 + 거기에대한alias 도 추가한것.\n",
    "\n",
    "# copy() 를 쓴다."
   ]
  },
  {
   "cell_type": "code",
   "execution_count": 535,
   "id": "073e1938",
   "metadata": {},
   "outputs": [
    {
     "name": "stdout",
     "output_type": "stream",
     "text": [
      "2569909154336\n",
      "2569909154336\n",
      "2569909154336\n"
     ]
    }
   ],
   "source": [
    "print(id(data))\n",
    "print(id(data_copy))\n",
    "data_copy2 = data.copy()\n",
    "print(id(data_copy2))"
   ]
  },
  {
   "cell_type": "code",
   "execution_count": null,
   "id": "3f2fc534",
   "metadata": {},
   "outputs": [],
   "source": []
  },
  {
   "cell_type": "code",
   "execution_count": null,
   "id": "fafe068a",
   "metadata": {},
   "outputs": [],
   "source": []
  },
  {
   "cell_type": "code",
   "execution_count": null,
   "id": "7b111ea4",
   "metadata": {},
   "outputs": [],
   "source": []
  },
  {
   "cell_type": "code",
   "execution_count": null,
   "id": "1e0d25e6",
   "metadata": {},
   "outputs": [],
   "source": []
  },
  {
   "cell_type": "code",
   "execution_count": null,
   "id": "04921107",
   "metadata": {},
   "outputs": [],
   "source": []
  },
  {
   "cell_type": "code",
   "execution_count": null,
   "id": "9de667ae",
   "metadata": {},
   "outputs": [],
   "source": []
  },
  {
   "cell_type": "code",
   "execution_count": null,
   "id": "4b234ce3",
   "metadata": {},
   "outputs": [],
   "source": []
  },
  {
   "cell_type": "code",
   "execution_count": null,
   "id": "ffef05ae",
   "metadata": {},
   "outputs": [],
   "source": []
  },
  {
   "cell_type": "code",
   "execution_count": null,
   "id": "52787fa7",
   "metadata": {},
   "outputs": [],
   "source": []
  },
  {
   "cell_type": "code",
   "execution_count": null,
   "id": "eca7f08d",
   "metadata": {},
   "outputs": [],
   "source": []
  },
  {
   "cell_type": "code",
   "execution_count": null,
   "id": "26057b59",
   "metadata": {},
   "outputs": [],
   "source": []
  },
  {
   "cell_type": "code",
   "execution_count": null,
   "id": "4ea1ddc7",
   "metadata": {},
   "outputs": [],
   "source": []
  },
  {
   "cell_type": "code",
   "execution_count": null,
   "id": "00874b1b",
   "metadata": {},
   "outputs": [],
   "source": []
  }
 ],
 "metadata": {
  "kernelspec": {
   "display_name": "Python 3 (ipykernel)",
   "language": "python",
   "name": "python3"
  },
  "language_info": {
   "codemirror_mode": {
    "name": "ipython",
    "version": 3
   },
   "file_extension": ".py",
   "mimetype": "text/x-python",
   "name": "python",
   "nbconvert_exporter": "python",
   "pygments_lexer": "ipython3",
   "version": "3.9.13"
  }
 },
 "nbformat": 4,
 "nbformat_minor": 5
}
