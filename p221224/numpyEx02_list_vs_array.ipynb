{
 "cells": [
  {
   "cell_type": "markdown",
   "id": "86da870d",
   "metadata": {},
   "source": [
    "** numpy와 array 차이\n",
    "## 요소 타입\n",
    "- 리스트 :  숫자형, 문자열 등 모든 자료 타입을 가질 수 있다 (여러 자료형 허용)\n",
    "- 어레이 : 숫자형과 문자열이 혼합되면 모두 문자열로 변환 (한 가지 자료형만 허용)"
   ]
  },
  {
   "cell_type": "code",
   "execution_count": 2,
   "id": "ad0f49ff",
   "metadata": {},
   "outputs": [
    {
     "name": "stdout",
     "output_type": "stream",
     "text": [
      "[1, 3, 'a', 'b']\n",
      "['1' '3' 'a' 'b']\n"
     ]
    }
   ],
   "source": [
    "import numpy as np\n",
    "lt = [1, 3, 'a', 'b']\n",
    "ar = np.array([1, 3, 'a', 'b'])\n",
    "\n",
    "print(lt)\n",
    "print(ar)"
   ]
  },
  {
   "cell_type": "markdown",
   "id": "bfbff8e5",
   "metadata": {},
   "source": [
    "## 2차원 이상일 경우, 원소 개수\n",
    "- 리스트 : 원소 개수가 달라도 됨\n",
    "- 어레이 : 원소 개수가 모두 같아야 함"
   ]
  },
  {
   "cell_type": "code",
   "execution_count": 8,
   "id": "3153df69",
   "metadata": {},
   "outputs": [
    {
     "name": "stdout",
     "output_type": "stream",
     "text": [
      "[[1], [3, 5], [7, 9, 10]]\n",
      "[[1 3]\n",
      " [3 5]\n",
      " [7 9]]\n"
     ]
    },
    {
     "name": "stderr",
     "output_type": "stream",
     "text": [
      "C:\\Users\\Public\\Documents\\ESTsoft\\CreatorTemp\\ipykernel_6828\\1507619900.py:5: VisibleDeprecationWarning: Creating an ndarray from ragged nested sequences (which is a list-or-tuple of lists-or-tuples-or ndarrays with different lengths or shapes) is deprecated. If you meant to do this, you must specify 'dtype=object' when creating the ndarray.\n",
      "  ar = np.array([[1], [3, 5], [7, 9, 10]]) ## Warning\n"
     ]
    }
   ],
   "source": [
    "lt = [[1], [3, 5], [7, 9, 10]]\n",
    "ar = np.array([[1], [3, 5], [7, 9, 10]]) ## Warning\n",
    "\n",
    "## Warning 발생 안되게 하려면...\n",
    "#ar = np.array([[1], [3, 5], [7, 9, 10]], dtype=object)\n",
    "ar = np.array([[1, 3], [3, 5], [7, 9]])\n",
    "\n",
    "print(lt)\n",
    "print(ar)"
   ]
  },
  {
   "cell_type": "markdown",
   "id": "18126075",
   "metadata": {},
   "source": [
    "## 연산\n",
    "- 리스트 : 리스트 간 + 연산은 concatenate 수행, -,*,/ 연산 불가능\n",
    "- 어레이 : +, -, *, / 연산 모두 가능"
   ]
  },
  {
   "cell_type": "code",
   "execution_count": null,
   "id": "e9946e7a",
   "metadata": {},
   "outputs": [],
   "source": [
    "#리스트를 가지고 하는 연산 , 리스트 전후순서대로 합쳐 이어주기 >\n",
    "lt_one = [1, 3, 5]\n",
    "lt_two = [2, 4, 6]\n",
    "\n",
    "print(lt_one + lt_two)# concat\n",
    "#print(lt_one - lt_two) ## Error\n",
    "print(lt_one * 3) # iterate "
   ]
  },
  {
   "cell_type": "code",
   "execution_count": 15,
   "id": "dd23c8f2",
   "metadata": {},
   "outputs": [
    {
     "name": "stdout",
     "output_type": "stream",
     "text": [
      "[1, 3, 5, 2, 4, 6]\n",
      "[1, 3, 5, 1, 3, 5, 1, 3, 5]\n",
      "[ 3  7 11]\n",
      "[-1 -1 -1]\n",
      "[ 2 12 30]\n",
      "[0.5        0.75       0.83333333]\n",
      "[3 5 7]\n",
      "[ 2  6 10]\n"
     ]
    },
    {
     "data": {
      "text/plain": [
       "array([ 2,  6, 10])"
      ]
     },
     "execution_count": 15,
     "metadata": {},
     "output_type": "execute_result"
    }
   ],
   "source": [
    "## ARRAY 는 좀더 다양한 일들을 할수있다!! \n",
    "\n",
    "ar_one = np.array([1, 3, 5])\n",
    "ar_two = np.array([2, 4, 6])\n",
    "print(ar_one + ar_two)\n",
    "print(ar_one - ar_two)\n",
    "print(ar_one * ar_two)\n",
    "print(ar_one / ar_two)\n",
    "\n",
    "print(ar_one + 2)\n",
    "print(ar_one * 2)\n",
    "ar_one * 2"
   ]
  },
  {
   "cell_type": "markdown",
   "id": "9c1ba458",
   "metadata": {},
   "source": [
    "## 연산 속도 \n",
    "- 1970년 1월 1일 0시 0분 0초 이후 경과한 시간을 초단위로 반환\n",
    "- 정수부는 초단위이고, 소수부는 마이크로(micro) 초단위\n",
    "- 마이크로초(microsecond, μs)또는 마이크로세컨드 : 백만 분의 1초"
   ]
  },
  {
   "cell_type": "code",
   "execution_count": 22,
   "id": "6242f8ff",
   "metadata": {},
   "outputs": [
    {
     "name": "stdout",
     "output_type": "stream",
     "text": [
      "17.97659158706665\n"
     ]
    }
   ],
   "source": [
    "import time \n",
    "\n",
    "# 리스트 연산 속도\n",
    "lt = list(range(10 ** 8)) ## 10 ** 8 : 10의 8제곱\n",
    "\n",
    "start = time.time()\n",
    "for i in range(10 ** 8):\n",
    "    lt[i] *= 2\n",
    "end = time.time()\n",
    "print(end - start)"
   ]
  },
  {
   "cell_type": "code",
   "execution_count": 21,
   "id": "5f123030",
   "metadata": {},
   "outputs": [
    {
     "name": "stdout",
     "output_type": "stream",
     "text": [
      "0.1676464080810547\n"
     ]
    }
   ],
   "source": [
    "# 어레이 연산 속도\n",
    "ar = np.array(range(10 ** 8))\n",
    "\n",
    "start = time.time()\n",
    "ar = ar * 2\n",
    "end = time.time()\n",
    "print(end - start)"
   ]
  }
 ],
 "metadata": {
  "kernelspec": {
   "display_name": "Python 3 (ipykernel)",
   "language": "python",
   "name": "python3"
  },
  "language_info": {
   "codemirror_mode": {
    "name": "ipython",
    "version": 3
   },
   "file_extension": ".py",
   "mimetype": "text/x-python",
   "name": "python",
   "nbconvert_exporter": "python",
   "pygments_lexer": "ipython3",
   "version": "3.9.13"
  },
  "toc": {
   "base_numbering": 1,
   "nav_menu": {},
   "number_sections": true,
   "sideBar": true,
   "skip_h1_title": false,
   "title_cell": "Table of Contents",
   "title_sidebar": "Contents",
   "toc_cell": false,
   "toc_position": {},
   "toc_section_display": true,
   "toc_window_display": false
  }
 },
 "nbformat": 4,
 "nbformat_minor": 5
}
