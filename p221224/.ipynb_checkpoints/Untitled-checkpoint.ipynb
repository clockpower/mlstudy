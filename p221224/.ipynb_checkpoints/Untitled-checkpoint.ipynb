{
 "cells": [
  {
   "cell_type": "markdown",
   "id": "9db90435",
   "metadata": {},
   "source": [
    "# 제목1"
   ]
  },
  {
   "cell_type": "code",
   "execution_count": null,
   "id": "0b0b03e4",
   "metadata": {},
   "outputs": [],
   "source": [
    "print('asd')"
   ]
  },
  {
   "cell_type": "markdown",
   "id": "76814eae",
   "metadata": {},
   "source": [
    "# ㅇㄴㅇ"
   ]
  },
  {
   "cell_type": "markdown",
   "id": "4cee5b9d",
   "metadata": {},
   "source": [
    "# heading1 \n",
    "## heading2 \n",
    "#### heading4"
   ]
  },
  {
   "cell_type": "markdown",
   "id": "ac5442c6",
   "metadata": {},
   "source": [
    "## 순서 없는 리스트\n",
    "- 순\n",
    "    - 순1\n",
    "        - 순3\n",
    "- 서\n",
    "- 없\n",
    "-음"
   ]
  },
  {
   "cell_type": "markdown",
   "id": "4ff2707a",
   "metadata": {},
   "source": [
    "# 순서 있음 \n",
    "1. 뮻\n",
    "2. 123\n",
    "3. ㅁㄴㅇ\n",
    "    1. ㅁㄴㅇ\n",
    "        1. ㅂㅈㄷ\n",
    "            1. 123\n",
    "                1. ㄴㅁㅇㅇㄴㅇ\n",
    "                4. ㄷ\n",
    "                \n",
    "                6. ㄴ\n",
    "                123. ㄱ"
   ]
  },
  {
   "cell_type": "markdown",
   "id": "2512e2b6",
   "metadata": {},
   "source": [
    "글자 진하게\n",
    "\n",
    "**글자 진하게**\n"
   ]
  },
  {
   "cell_type": "markdown",
   "id": "136b3589",
   "metadata": {},
   "source": [
    "'''Python\n",
    "str = 'hello world!'\n",
    "print(str)\n",
    "\n",
    "'''"
   ]
  },
  {
   "cell_type": "markdown",
   "id": "b4acd2f3",
   "metadata": {},
   "source": [
    "## 인용구\n",
    "\n",
    "> 이것은 인용 구1  \n",
    "> 인용구 2  \n",
    "> 인용구 셉  \n",
    "#### 라인끝에 스페이스2칸 해야 개행효과 가짐"
   ]
  },
  {
   "cell_type": "markdown",
   "id": "878e2547",
   "metadata": {},
   "source": [
    "### 코드블럭 추가 ( backtick  )\n",
    "```Python\n",
    "    str = 'string'\n",
    "    print('')\n",
    "```"
   ]
  },
  {
   "cell_type": "markdown",
   "id": "58541b12",
   "metadata": {},
   "source": [
    "### 표 그리기\n",
    "\n",
    "이름 | 전화번호 | 이메일 \n",
    "- | - | - \n",
    "김00 | 010 | ABC@D.COM  \n",
    "김00 | 010 | ABC@D.COM  \n",
    "김00 | 010 | ABC@D.COM  \n",
    "\n",
    "\n",
    "\n",
    "\n"
   ]
  },
  {
   "cell_type": "code",
   "execution_count": null,
   "id": "4c225ebf",
   "metadata": {},
   "outputs": [],
   "source": [
    "이미지 추가 도 가능하다. \n",
    "\n"
   ]
  },
  {
   "cell_type": "code",
   "execution_count": null,
   "id": "7b8c5b83",
   "metadata": {},
   "outputs": [],
   "source": []
  }
 ],
 "metadata": {
  "kernelspec": {
   "display_name": "Python 3 (ipykernel)",
   "language": "python",
   "name": "python3"
  },
  "language_info": {
   "codemirror_mode": {
    "name": "ipython",
    "version": 3
   },
   "file_extension": ".py",
   "mimetype": "text/x-python",
   "name": "python",
   "nbconvert_exporter": "python",
   "pygments_lexer": "ipython3",
   "version": "3.9.13"
  }
 },
 "nbformat": 4,
 "nbformat_minor": 5
}
