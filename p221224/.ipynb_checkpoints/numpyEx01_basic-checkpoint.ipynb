{
 "cells": [
  {
   "cell_type": "raw",
   "metadata": {},
   "source": [
    "# Numpy ndarray 개요"
   ]
  },
  {
   "cell_type": "code",
   "execution_count": 31,
   "metadata": {},
   "outputs": [],
   "source": [
    "import numpy as np"
   ]
  },
  {
   "cell_type": "code",
   "execution_count": 32,
   "metadata": {},
   "outputs": [
    {
     "name": "stdout",
     "output_type": "stream",
     "text": [
      "list1 type: <class 'list'>\n",
      "array1 type: <class 'numpy.ndarray'>\n",
      "array1 array 형태: (3,)\n"
     ]
    }
   ],
   "source": [
    "list1 = [1, 2, 3]\n",
    "print('list1 type:', type(list1))\n",
    "array1 = np.array(list1)\n",
    "#array1 = np.array([1,2,3])\n",
    "print('array1 type:',type(array1))\n",
    "print('array1 array 형태:',array1.shape) # 튜플 형태로 들어있는걸알수있다.\n",
    "# PANDAS에서도 shape확인했다.  인덱스 - 행,  index[1] 하면 - 열  나왔다.\n",
    "# 1차원 배열의 길이 정보가 나옴.  \n",
    "# 1차원배열은 행ㅇ ㅓㅂㅅ고  열만 있는 상태.  \n",
    "# 근데  빈 , 는ㄴ 왜요?  튜플이 요소가 1개일때는 뒤에 comma 가 붙어요. \n",
    "\n"
   ]
  },
  {
   "cell_type": "code",
   "execution_count": 33,
   "metadata": {},
   "outputs": [
    {
     "name": "stdout",
     "output_type": "stream",
     "text": [
      "array2 type: <class 'numpy.ndarray'>\n",
      "array2 array 형태: (2, 3)\n",
      "array3 type: <class 'numpy.ndarray'>\n",
      "array3 array 형태: (1, 3)\n"
     ]
    }
   ],
   "source": [
    "array2 = np.array([[1,2,3],\n",
    "                  [2,3,4]])\n",
    "# 1차원 리스트가 2개가 있는데,  그걸 감싸는 list 가 있다. \n",
    "# 행 2개고 열3개  , 2행3열짜리 2차원 데이터프레임\n",
    "# shape 출력했는데 튜플이 나오고 그 튜플이 요소 2개 가지면?\n",
    "#무조건 2차원 배열이에요 \n",
    "print('array2 type:',type(array2))\n",
    "print('array2 array 형태:',array2.shape)\n",
    "\n",
    "array3 = np.array([[1,2,3]])\n",
    "print('array3 type:',type(array3))\n",
    "print('array3 array 형태:',array3.shape)"
   ]
  },
  {
   "cell_type": "code",
   "execution_count": 34,
   "metadata": {},
   "outputs": [
    {
     "name": "stdout",
     "output_type": "stream",
     "text": [
      "array1: 1차원, array2: 2차원, array3: 2차원\n"
     ]
    }
   ],
   "source": [
    "print('array1: {}차원, array2: {}차원, array3: {}차원'.format(array1.ndim, array2.ndim, array3.ndim))"
   ]
  },
  {
   "cell_type": "markdown",
   "metadata": {},
   "source": [
    "### ndarray의 데이터 타입"
   ]
  },
  {
   "cell_type": "code",
   "execution_count": 45,
   "metadata": {},
   "outputs": [
    {
     "name": "stdout",
     "output_type": "stream",
     "text": [
      "<class 'list'>\n",
      "<class 'numpy.ndarray'>\n",
      "[1 2 3] int32\n",
      "(3,)\n"
     ]
    },
    {
     "data": {
      "text/plain": [
       "array([1, 2, 3])"
      ]
     },
     "execution_count": 45,
     "metadata": {},
     "output_type": "execute_result"
    }
   ],
   "source": [
    "list1 = [1,2,3,]# 여기 2.5 추가되면 전체가 float64 타입 화 된다.\n",
    "print(type(list1))\n",
    "\n",
    "array1 = np.array(list1)\n",
    "print(type(array1))\n",
    "print(array1, array1.dtype)\n",
    "print(array1.shape)\n",
    "array1 \n",
    "#명령어로 출력하면  comma 잘 나옴"
   ]
  },
  {
   "cell_type": "code",
   "execution_count": 36,
   "metadata": {},
   "outputs": [
    {
     "name": "stdout",
     "output_type": "stream",
     "text": [
      "['1' '2' 'test'] <U11\n",
      "[1. 2. 3.] float64\n"
     ]
    }
   ],
   "source": [
    "list2 = [1, 2, 'test']\n",
    "array2 = np.array(list2)\n",
    "print(array2, array2.dtype)\n",
    "\n",
    "list3 = [1, 2, 3.0]\n",
    "array3 = np.array(list3)\n",
    "print(array3, array3.dtype)"
   ]
  },
  {
   "cell_type": "code",
   "execution_count": 46,
   "metadata": {},
   "outputs": [
    {
     "name": "stdout",
     "output_type": "stream",
     "text": [
      "[1. 2. 3.] float64\n"
     ]
    }
   ],
   "source": [
    "# change type int to float \n",
    "# . 붙는 이유? , 안붙게 하려면?\n",
    "array_int = np.array([1, 2, 3])\n",
    "array_float = array_int.astype('float64') # array_int.astype(np.float64)\n",
    "# 넘파이에서도 제공 되는 astype 이고 똑같이 써먹을수있다! \n",
    "print(array_float, array_float.dtype)"
   ]
  },
  {
   "cell_type": "code",
   "execution_count": 47,
   "metadata": {},
   "outputs": [
    {
     "name": "stdout",
     "output_type": "stream",
     "text": [
      "[1 2 3] int32\n"
     ]
    }
   ],
   "source": [
    "array_int1= array_float.astype('int32')\n",
    "print(array_int1, array_int1.dtype)"
   ]
  },
  {
   "cell_type": "code",
   "execution_count": 48,
   "metadata": {},
   "outputs": [
    {
     "name": "stdout",
     "output_type": "stream",
     "text": [
      "[1 2 3] int32\n"
     ]
    }
   ],
   "source": [
    "array_float1 = np.array([1.1, 2.1, 3.1])\n",
    "array_int2= array_float1.astype('int32')\n",
    "print(array_int2, array_int2.dtype) "
   ]
  },
  {
   "cell_type": "markdown",
   "metadata": {},
   "source": [
    "### ndarray를 편리하게 생성하기 - arange, zeros, ones"
   ]
  },
  {
   "cell_type": "code",
   "execution_count": 38,
   "metadata": {},
   "outputs": [
    {
     "name": "stdout",
     "output_type": "stream",
     "text": [
      "[0 1 2 3 4 5 6 7 8 9]\n",
      "<class 'numpy.ndarray'>\n",
      "int32 (10,)\n"
     ]
    }
   ],
   "source": [
    "sequence_array = np.arange(10)\n",
    "\n",
    "# range  /  orange / arrange /  arange??????????????\n",
    "\n",
    "\n",
    "print(sequence_array)\n",
    "print(type(sequence_array))\n",
    "print(sequence_array.dtype, sequence_array.shape)\n",
    "\n",
    "# 튜플 타입 (단개짜리) int32 (10,) \n"
   ]
  },
  {
   "cell_type": "code",
   "execution_count": 49,
   "metadata": {},
   "outputs": [
    {
     "name": "stdout",
     "output_type": "stream",
     "text": [
      "[[0 0]\n",
      " [0 0]\n",
      " [0 0]]\n",
      "int32 (3, 2)\n"
     ]
    }
   ],
   "source": [
    "## 모든 원소가 0인 ndarray 생성\n",
    "## shape : (3, 2)\n",
    "## dtype : int32\n",
    "zero_array = np.zeros((3, 2), dtype='int32')\n",
    "print(zero_array)\n",
    "print(zero_array.dtype, zero_array.shape)\n"
   ]
  },
  {
   "cell_type": "code",
   "execution_count": 39,
   "metadata": {},
   "outputs": [
    {
     "name": "stdout",
     "output_type": "stream",
     "text": [
      "[[0 0]\n",
      " [0 0]\n",
      " [0 0]]\n",
      "int32 (3, 2)\n",
      "[[1. 1.]\n",
      " [1. 1.]\n",
      " [1. 1.]]\n",
      "float64 (3, 2)\n"
     ]
    }
   ],
   "source": [
    "## 모든 원소가 1인 ndarray 생성\n",
    "## shape : (3, 2)\n",
    "## dtype : float64\n",
    "one_array = np.ones((3, 2))\n",
    "# 1따리 배열 만들기  ones 메서드\n",
    "print(one_array)\n",
    "print(one_array.dtype, one_array.shape)"
   ]
  },
  {
   "cell_type": "markdown",
   "metadata": {},
   "source": [
    "### ndarray의 차원과 크기를 변경하는 reshape"
   ]
  },
  {
   "cell_type": "code",
   "execution_count": 52,
   "metadata": {},
   "outputs": [
    {
     "name": "stdout",
     "output_type": "stream",
     "text": [
      "array1:\n",
      " [0 1 2 3 4 5 6 7 8 9]\n",
      "shape ;:: (10,)\n"
     ]
    }
   ],
   "source": [
    "#작업하게되면 셰이프 변경할일이 자주 생긴다. \n",
    "# 1차원배열 \n",
    "\n",
    "array1 = np.arange(10)\n",
    "print('array1:\\n', array1)\n",
    "print('shape ;::' ,  array1.shape)"
   ]
  },
  {
   "cell_type": "code",
   "execution_count": 61,
   "metadata": {},
   "outputs": [
    {
     "name": "stdout",
     "output_type": "stream",
     "text": [
      "array2:\n",
      " [[0 1 2 3 4]\n",
      " [5 6 7 8 9]]\n"
     ]
    }
   ],
   "source": [
    "## 1차원배열 10개짜리를  2차원배열로 HOW?? (2, 5) shape으로 변환\n",
    "array1 = np.arange(10)\n",
    "array2 = array1.reshape(2, 5)\n",
    "print('array2:\\n', array2)\n",
    "#array2 = array1.reshape(5, 2)\n",
    "#print('array2:\\n', array2)"
   ]
  },
  {
   "cell_type": "code",
   "execution_count": 62,
   "metadata": {},
   "outputs": [
    {
     "name": "stdout",
     "output_type": "stream",
     "text": [
      "array2:\n",
      " [[0 1 2 3 4]\n",
      " [5 6 7 8 9]]\n",
      "array3:\n",
      " [[0 1]\n",
      " [2 3]\n",
      " [4 5]\n",
      " [6 7]\n",
      " [8 9]]\n"
     ]
    }
   ],
   "source": [
    "## 동일 한 2차원 배열이지만 /  행 / 열 을 뒤집기 \n",
    "## (5, 2) shape으로 변환\n",
    "print('array2:\\n', array2)# 2,5  >>>> 5,2 \n",
    "array3 = array2.reshape(5, 2)\n",
    "print('array3:\\n', array3)"
   ]
  },
  {
   "cell_type": "code",
   "execution_count": 41,
   "metadata": {},
   "outputs": [
    {
     "ename": "ValueError",
     "evalue": "cannot reshape array of size 10 into shape (4,3)",
     "output_type": "error",
     "traceback": [
      "\u001b[1;31m---------------------------------------------------------------------------\u001b[0m",
      "\u001b[1;31mValueError\u001b[0m                                Traceback (most recent call last)",
      "\u001b[1;32m~\\AppData\\Local\\Temp\\ipykernel_8208\\844733705.py\u001b[0m in \u001b[0;36m<module>\u001b[1;34m\u001b[0m\n\u001b[1;32m----> 1\u001b[1;33m \u001b[0marray1\u001b[0m\u001b[1;33m.\u001b[0m\u001b[0mreshape\u001b[0m\u001b[1;33m(\u001b[0m\u001b[1;36m4\u001b[0m\u001b[1;33m,\u001b[0m \u001b[1;36m3\u001b[0m\u001b[1;33m)\u001b[0m\u001b[1;33m\u001b[0m\u001b[1;33m\u001b[0m\u001b[0m\n\u001b[0m",
      "\u001b[1;31mValueError\u001b[0m: cannot reshape array of size 10 into shape (4,3)"
     ]
    }
   ],
   "source": [
    "array1.reshape(4, 3)#만들수 있는 형태의 셰이프를 지정을 좀 하자."
   ]
  },
  {
   "cell_type": "code",
   "execution_count": 67,
   "metadata": {},
   "outputs": [
    {
     "name": "stdout",
     "output_type": "stream",
     "text": [
      "[0 1 2 3 4 5 6 7 8 9]\n",
      "array1 shape: (10,)\n",
      "array2 shape: (2, 5)\n",
      "array3 shape: (5, 2)\n"
     ]
    }
   ],
   "source": [
    "array1 = np.arange(10)\n",
    "print(array1)\n",
    "print('array1 shape:', array1.shape)\n",
    "array2 = array1.reshape(-1, 5)\n",
    "# 열이 일단 꼭 5개면 좋겠어요 .\n",
    "# 근데 행이 얼만지 관심도 , 계산 하기도 귀찮아요.\n",
    "print('array2 shape:', array2.shape)\n",
    "\n",
    "\n",
    "array3 = array2.reshape(5, -1)\n",
    "print('array3 shape:', array3.shape)"
   ]
  },
  {
   "cell_type": "code",
   "execution_count": 71,
   "metadata": {},
   "outputs": [
    {
     "name": "stdout",
     "output_type": "stream",
     "text": [
      "[0 1 2 3 4 5 6 7 8 9]\n"
     ]
    },
    {
     "ename": "ValueError",
     "evalue": "cannot reshape array of size 10 into shape (4)",
     "output_type": "error",
     "traceback": [
      "\u001b[1;31m---------------------------------------------------------------------------\u001b[0m",
      "\u001b[1;31mValueError\u001b[0m                                Traceback (most recent call last)",
      "\u001b[1;32m~\\AppData\\Local\\Temp\\ipykernel_8208\\3613749547.py\u001b[0m in \u001b[0;36m<module>\u001b[1;34m\u001b[0m\n\u001b[0;32m      1\u001b[0m \u001b[0marray1\u001b[0m \u001b[1;33m=\u001b[0m \u001b[0mnp\u001b[0m\u001b[1;33m.\u001b[0m\u001b[0marange\u001b[0m\u001b[1;33m(\u001b[0m\u001b[1;36m10\u001b[0m\u001b[1;33m)\u001b[0m\u001b[1;33m\u001b[0m\u001b[1;33m\u001b[0m\u001b[0m\n\u001b[0;32m      2\u001b[0m \u001b[0mprint\u001b[0m\u001b[1;33m(\u001b[0m\u001b[0marray1\u001b[0m\u001b[1;33m)\u001b[0m\u001b[1;33m\u001b[0m\u001b[1;33m\u001b[0m\u001b[0m\n\u001b[1;32m----> 3\u001b[1;33m \u001b[0marray4\u001b[0m \u001b[1;33m=\u001b[0m \u001b[0marray1\u001b[0m\u001b[1;33m.\u001b[0m\u001b[0mreshape\u001b[0m\u001b[1;33m(\u001b[0m\u001b[1;33m-\u001b[0m\u001b[1;36m1\u001b[0m\u001b[1;33m,\u001b[0m \u001b[1;36m4\u001b[0m\u001b[1;33m)\u001b[0m\u001b[1;33m\u001b[0m\u001b[1;33m\u001b[0m\u001b[0m\n\u001b[0m",
      "\u001b[1;31mValueError\u001b[0m: cannot reshape array of size 10 into shape (4)"
     ]
    }
   ],
   "source": [
    "array1 = np.arange(10)\n",
    "print(array1)\n",
    "array4 = array1.reshape(-1, 4)"
   ]
  },
  {
   "cell_type": "code",
   "execution_count": 73,
   "metadata": {},
   "outputs": [
    {
     "name": "stdout",
     "output_type": "stream",
     "text": [
      "array3:\n",
      " [[[0, 1], [2, 3]], [[4, 5], [6, 7]]]\n",
      "array3:\n",
      " [[[0 1]\n",
      "  [2 3]]\n",
      "\n",
      " [[4 5]\n",
      "  [6 7]]]\n"
     ]
    }
   ],
   "source": [
    "# 3차원단계\n",
    "\n",
    "array1 = np.arange(8)\n",
    "\n",
    "## 1차원 -> 3차원 변환\n",
    "array3 = array1.reshape((2, 2, 2))\n",
    "#  2 층짜리의 블럭이있어요.\n",
    "print('array3:\\n', array3.tolist())\n",
    "print('array3:\\n', array3)\n"
   ]
  },
  {
   "cell_type": "code",
   "execution_count": 75,
   "metadata": {},
   "outputs": [
    {
     "name": "stdout",
     "output_type": "stream",
     "text": [
      "array44:\n",
      " [[[0]], [[1]], [[2]], [[3]], [[4]], [[5]], [[6]], [[7]]]\n",
      "array44 shape: (8, 1, 1)\n",
      "array4:\n",
      " [[0], [1], [2], [3], [4], [5], [6], [7]]\n",
      "array4 shape: (8, 1)\n",
      "array5:\n",
      " [[0], [1], [2], [3], [4], [5], [6], [7]]\n",
      "array5 shape: (8, 1)\n"
     ]
    }
   ],
   "source": [
    "\n",
    "## 3차원 -> 2차원 변환, 컬럼 갯수 : 1\n",
    "array44 = array3.reshape(-1, 1,1)\n",
    "print('array44:\\n', array44.tolist())\n",
    "print('array44 shape:', array44.shape)\n",
    "array4 = array3.reshape(-1, 1) # 행은 가변으로 하고,  열은 1개로 리셰이프좀요.\n",
    "print('array4:\\n', array4.tolist())\n",
    "print('array4 shape:', array4.shape)\n",
    "\n",
    "## 1차원 -> 2차원 변환, 컬럼 갯수 : 1\n",
    "array5 = array1.reshape(-1, 1)\n",
    "print('array5:\\n', array5.tolist())\n",
    "print('array5 shape:', array5.shape)"
   ]
  },
  {
   "cell_type": "code",
   "execution_count": 77,
   "metadata": {},
   "outputs": [
    {
     "name": "stdout",
     "output_type": "stream",
     "text": [
      "[0 1 2 3 4 5 6 7]\n",
      "(8,)\n"
     ]
    }
   ],
   "source": [
    "#볼게요. \n",
    "## 3차원 array를 1차원으로 변환\n",
    "array1 = array3.reshape(-1,) #1차원은 열만 있어요. 어차피 행만있죠? \n",
    "# 근데 행은 모르죠?  그러면 가변 -1 넣어주지요. \n",
    "#  array3.reshape(-1,)  \n",
    "#array1 = array3.reshape(-1) ## 위 코드와 같음\n",
    "print(array1)\n",
    "print(array1.shape)"
   ]
  },
  {
   "cell_type": "markdown",
   "metadata": {},
   "source": [
    "### 넘파이 ndarray의 데이터 세트 선택하기 - indexing"
   ]
  },
  {
   "cell_type": "markdown",
   "metadata": {},
   "source": [
    "- 단일 인덱싱. "
   ]
  },
  {
   "cell_type": "code",
   "execution_count": 79,
   "metadata": {},
   "outputs": [
    {
     "name": "stdout",
     "output_type": "stream",
     "text": [
      "array1: [1 2 3 4 5 6 7 8 9]\n"
     ]
    }
   ],
   "source": [
    "## 1차원 ndarray 생성 : 1~9\n",
    "array1 = np.arange(start=1, stop=10)\n",
    "print('array1:',array1)\n",
    "## 단지 대괄호가있어서 list 가 아니다.\n",
    "## 기본적으로 range 가 리턴 하는것은 array 이다!!!! \n"
   ]
  },
  {
   "cell_type": "code",
   "execution_count": 80,
   "metadata": {},
   "outputs": [
    {
     "name": "stdout",
     "output_type": "stream",
     "text": [
      "value: 3\n",
      "<class 'numpy.int32'>\n"
     ]
    }
   ],
   "source": [
    "## index : 0 부터 시작\n",
    "## array1[2] : 3번째 index 위치의 데이터 값 의미\n",
    "value = array1[2]\n",
    "print('value:',value)\n",
    "print(type(value))\n",
    "## <class 'numpy.int32'> \n",
    "## 넘파이에서 쓰이는 int32 라는 클래스 타입입니다~ \n"
   ]
  },
  {
   "cell_type": "code",
   "execution_count": 82,
   "metadata": {},
   "outputs": [
    {
     "name": "stdout",
     "output_type": "stream",
     "text": [
      "맨 뒤의 값: 9\n",
      "맨 뒤에서 두번째 값: 8\n"
     ]
    }
   ],
   "source": [
    "print('맨 뒤의 값:', array1[-1])\n",
    "print('맨 뒤에서 두번째 값:', array1[-2])"
   ]
  },
  {
   "cell_type": "code",
   "execution_count": 83,
   "metadata": {},
   "outputs": [
    {
     "name": "stdout",
     "output_type": "stream",
     "text": [
      "array1: [9 2 3 4 5 6 7 8 0]\n"
     ]
    }
   ],
   "source": [
    "## 요소 변경, 주소에 접근하고서,  값을 할당 해버린다ㅡ.\n",
    "array1[0] = 9\n",
    "array1[-1] = 0\n",
    "print('array1:',array1)"
   ]
  },
  {
   "cell_type": "code",
   "execution_count": 85,
   "metadata": {},
   "outputs": [
    {
     "name": "stdout",
     "output_type": "stream",
     "text": [
      "[[1 2 3]\n",
      " [4 5 6]\n",
      " [7 8 9]]\n",
      "shape >> (3, 3)\n",
      "(row=0, col=0) index 값: 1\n",
      "(row=0, col=1) index 값: 2\n",
      "(row=1, col=0) index 값: 4\n",
      "(row=2, col=2) index 값: 9\n"
     ]
    }
   ],
   "source": [
    "# 개념 인덱싱은 - 결국 하나의 값에만 접근하는 것이다. \n",
    "# 2차원일때의  접근 방법!! \n",
    "array1 = np.arange(start=1, stop=10)\n",
    "array2 = array1.reshape(-1, 3)  \n",
    "print(array2)\n",
    "print('shape >>', array2.shape)\n",
    "\n",
    "print('(row=0, col=0) index 값:', array2[0, 0])\n",
    "print('(row=0, col=1) index 값:', array2[0, 1])\n",
    "print('(row=1, col=0) index 값:', array2[1, 0])\n",
    "print('(row=2, col=2) index 값:', array2[2, 2])"
   ]
  },
  {
   "cell_type": "markdown",
   "metadata": {},
   "source": [
    "---\n",
    "* 슬라이싱 인덱싱"
   ]
  },
  {
   "cell_type": "code",
   "execution_count": 86,
   "metadata": {},
   "outputs": [
    {
     "name": "stdout",
     "output_type": "stream",
     "text": [
      "array: [1 2 3 4 5 6 7 8 9]\n",
      "array3: [1 2 3]\n",
      "<class 'numpy.ndarray'>\n",
      "shape >> (3,)\n"
     ]
    }
   ],
   "source": [
    "array = np.arange(start=1, stop=10)\n",
    "print('array:', array)\n",
    "## 슬라이싱 - 시작 ~ 끝 범위주고 추출하기\n",
    "array3 = array[0:3]\n",
    "print('array3:', array3)\n",
    "print(type(array3))\n",
    "print('shape >>', array3.shape)"
   ]
  },
  {
   "cell_type": "code",
   "execution_count": null,
   "metadata": {},
   "outputs": [],
   "source": [
    "array1 = np.arange(start=1, stop=10)\n",
    "\n",
    "## 인덱스 0~2의 값 추출\n",
    "array4 = array1[0:3]\n",
    "print(array4)\n",
    "\n",
    "## 인덱스 3부터 마지막까지 추출\n",
    "array5 = array1[3:]\n",
    "print(array5)\n",
    "\n",
    "## 전체 값 추출  시작 끝을 다 안주면 전체를 깊게 뜬다. \n",
    "array6 = array1[:]# copy()와 같은 효과 \n",
    "print(array6)"
   ]
  },
  {
   "cell_type": "code",
   "execution_count": 91,
   "metadata": {},
   "outputs": [
    {
     "name": "stdout",
     "output_type": "stream",
     "text": [
      "array2:\n",
      " [[1 2 3]\n",
      " [4 5 6]\n",
      " [7 8 9]]\n",
      "array2[0:2, 0:2] \n",
      " [[1 2]\n",
      " [4 5]]\n",
      "array2[1:3, 0:3] \n",
      " [[4 5 6]\n",
      " [7 8 9]]\n",
      "array2[1:3, :] 모든열 \n",
      " [[4 5 6]\n",
      " [7 8 9]]\n",
      "array2[:, :] \n",
      " [[1 2 3]\n",
      " [4 5 6]\n",
      " [7 8 9]]\n",
      "array2[:2, 1:] \n",
      " [[2 3]\n",
      " [5 6]]\n",
      "array2[:2, 0] \n",
      " [1 4]\n"
     ]
    }
   ],
   "source": [
    "# 2차원배열의 슬라이싱 ~  범위로 추출 \n",
    "\n",
    "array1 = np.arange(start=1, stop=10)\n",
    "array2 = array1.reshape(3,3)\n",
    "print('array2:\\n',array2)\n",
    "\n",
    "print('array2[0:2, 0:2] \\n', array2[0:2, 0:2])# 2차원적 슬라이싱 \n",
    "print('array2[1:3, 0:3] \\n', array2[1:3, 0:3])\n",
    "print('array2[1:3, :] 모든열 \\n', array2[1:3, :])\n",
    "print('array2[:, :] \\n', array2[:, :])\n",
    "print('array2[:2, 1:] \\n', array2[:2, 1:])\n",
    "print('array2[:2, 0] \\n', array2[:2, 0])\n",
    "#행은 슬라이싱했고 ,열은 인덱싱 한 케이스 \n",
    "# 나오는 결과가 1차원이 되버린다. (  열을 하나로 했기 떄문에!) "
   ]
  },
  {
   "cell_type": "code",
   "execution_count": 95,
   "metadata": {},
   "outputs": [
    {
     "name": "stdout",
     "output_type": "stream",
     "text": [
      "[1 2 3]\n",
      "[4 5 6]\n",
      "array2[0] shape: (3,)\n",
      "array2[1] shape: (3,)\n"
     ]
    }
   ],
   "source": [
    "# 인덱싱을 하면, 2차원인데,  인덱싱을 하나만 썼다>??  행이다! \n",
    "print(array2[0,:])# print(array2[ 0 ]) # 와 같다!! \n",
    "print(array2[1])\n",
    "print('array2[0] shape:', array2[0].shape)\n",
    "print('array2[1] shape:', array2[1].shape )"
   ]
  },
  {
   "cell_type": "markdown",
   "metadata": {},
   "source": [
    "---\n",
    "* 팬시 인덱싱"
   ]
  },
  {
   "cell_type": "code",
   "execution_count": 99,
   "metadata": {},
   "outputs": [
    {
     "name": "stdout",
     "output_type": "stream",
     "text": [
      "[[1 2 3]\n",
      " [4 5 6]\n",
      " [7 8 9]]\n",
      "array2[[0, 2], 2] =>  [3, 9]\n",
      "array2[[0, 2], 0:2] 인덱싱이긴한데, 여러개라서 2차원 => \n",
      "  [[1, 2], [7, 8]]\n",
      "array2[[0, 2]] =>  [[1, 2, 3], [7, 8, 9]]\n"
     ]
    }
   ],
   "source": [
    "array1 = np.arange(start=1, stop=10)\n",
    "array2 = array1.reshape(-1, 3)\n",
    "print(array2)\n",
    "\n",
    "array3 = array2[[0, 2], 2]\n",
    "print('array2[[0, 2], 2] => ', array3.tolist())\n",
    "\n",
    "array4 = array2[[0, 2], 0:2] \n",
    "## 펜시인덱싱이다 , 직접 열거한 열에 대해서만 가져온다.\n",
    "# 그냥 인덱싱은 하나만 추출 할때 ( 차원 감소 효과) 쓴다. \n",
    "print('array2[[0, 2], 0:2] 인덱싱이긴한데, 여러개라서 2차원 => \\n ', array4.tolist())\n",
    "\n",
    "array5 = array2[[0, 2]]\n",
    "print('array2[[0, 2]] => ', array5.tolist())"
   ]
  },
  {
   "cell_type": "markdown",
   "metadata": {},
   "source": [
    "---\n",
    "* 불린 인덱싱"
   ]
  },
  {
   "cell_type": "code",
   "execution_count": 100,
   "metadata": {},
   "outputs": [
    {
     "name": "stdout",
     "output_type": "stream",
     "text": [
      "[1 2 3 4 5 6 7 8 9]\n",
      "array1 > 5 불린 인덱싱 결과 값 : [6 7 8 9]\n"
     ]
    }
   ],
   "source": [
    "# 조건을 달아주어서 추출하기 \n",
    "#팬시 - 불연속적 여러값\n",
    "array1 = np.arange(start=1, stop=10)\n",
    "print(array1)\n",
    "\n",
    "# [ ] 안에 조건 입력\n",
    "array3 = array1[array1 > 5]\n",
    "print('array1 > 5 불린 인덱싱 결과 값 :', array3)"
   ]
  },
  {
   "cell_type": "code",
   "execution_count": null,
   "metadata": {},
   "outputs": [],
   "source": [
    "array1 > 5"
   ]
  },
  {
   "cell_type": "code",
   "execution_count": null,
   "metadata": {},
   "outputs": [],
   "source": [
    "val = array1 > 5\n",
    "print(val)\n",
    "print(type(val))\n",
    "print(val.shape)"
   ]
  },
  {
   "cell_type": "code",
   "execution_count": null,
   "metadata": {},
   "outputs": [],
   "source": [
    "boolean_indexes = np.array([False, False, False, False, False,  True,  True,  True,  True])\n",
    "array3 = array1[boolean_indexes]\n",
    "print('불린 인덱스로 필터링 결과 :', array3)"
   ]
  },
  {
   "cell_type": "markdown",
   "metadata": {},
   "source": [
    "### 행렬의 정렬 – sort( )와 argsort( )\n",
    "\n",
    "* 행렬 정렬"
   ]
  },
  {
   "cell_type": "code",
   "execution_count": null,
   "metadata": {},
   "outputs": [],
   "source": [
    "org_array = np.array([ 3, 1, 9, 5]) \n",
    "print('정렬 전 - org_array :', org_array)\n",
    "\n",
    "## 정렬 : np.sort()\n",
    "sort_array = np.sort(org_array)\n",
    "print('\\n<< np.sort() >>')\n",
    "print('정렬 후 - sort_array :', sort_array) ## 복사본\n",
    "print('정렬 후 - org_array :', org_array)    ## 원본 그대로\n",
    "\n",
    "## 정렬 : ndarray.sort()\n",
    "sort_array2 = org_array.sort()\n",
    "print('\\n<< ndarray.sort() >>')\n",
    "print('정렬 후 - sort_array2 :', sort_array2) ## None (반환값 없음)\n",
    "print('정렬 후 - org_array :', org_array)     ## 원본 적용"
   ]
  },
  {
   "cell_type": "code",
   "execution_count": null,
   "metadata": {},
   "outputs": [],
   "source": [
    "#  시작 생략 끝 생략    - 1  << 역순으로 뽑아와줘 \n",
    "sort_array_desc = np.sort(org_array)[::-1]\n",
    "print ('내림차순으로 정렬:', sort_array_desc) "
   ]
  },
  {
   "cell_type": "code",
   "execution_count": 101,
   "metadata": {},
   "outputs": [
    {
     "name": "stdout",
     "output_type": "stream",
     "text": [
      "로우(행) 방향으로 정렬:\n",
      " [[ 8  1]\n",
      " [ 9 12]]\n",
      "컬럼(열) 방향으로 정렬:\n",
      " [[ 8 12]\n",
      " [ 1  9]]\n"
     ]
    }
   ],
   "source": [
    "array2 = np.array([[8, 12], \n",
    "                   [9, 1 ]])\n",
    "## sort 는 혁시 함수니깐. 복사본 만드는데,   axis - 행기준  , 열기준! \n",
    "sort_array2_axis0 = np.sort(array2, axis=0)\n",
    "# 행바이 행을 비교해서 정렬 한뒤 전체보여주기 \n",
    "print('로우(행) 방향으로 정렬:\\n', sort_array2_axis0)\n",
    "\n",
    "sort_array2_axis1 = np.sort(array2, axis=1)\n",
    "print('컬럼(열) 방향으로 정렬:\\n', sort_array2_axis1)\n",
    "# 컬럼바이 컬럼을 비교해서 보여주기 "
   ]
  },
  {
   "cell_type": "markdown",
   "metadata": {},
   "source": [
    "---\n",
    "* 정렬 행렬의 인덱스 반환 argsort\n"
   ]
  },
  {
   "cell_type": "code",
   "execution_count": 104,
   "metadata": {},
   "outputs": [
    {
     "name": "stdout",
     "output_type": "stream",
     "text": [
      "<class 'numpy.ndarray'>\n",
      "sort_index : [1 0 3 2]\n"
     ]
    }
   ],
   "source": [
    "org_array = np.array([ 3, 1, 9, 5]) \n",
    "sort_index = np.argsort(org_array)\n",
    "print(type(sort_index))\n",
    "print('sort_index :', sort_index) ## 원본 인덱스 반환\n",
    "# 정렬을 일단 해서 , 1 3 5 9  \n",
    "# 1,3,5 , 9 ,의 기존 인덱스값을 보여줌\n"
   ]
  },
  {
   "cell_type": "code",
   "execution_count": 102,
   "metadata": {},
   "outputs": [
    {
     "name": "stdout",
     "output_type": "stream",
     "text": [
      "sort_index_desc : [2 3 0 1]\n"
     ]
    }
   ],
   "source": [
    "org_array = np.array([ 3, 1, 9, 5]) \n",
    "sort_index_desc = np.argsort(org_array)[::-1]\n",
    "print('sort_index_desc :', sort_index_desc)"
   ]
  },
  {
   "cell_type": "code",
   "execution_count": 106,
   "metadata": {},
   "outputs": [
    {
     "name": "stdout",
     "output_type": "stream",
     "text": [
      "성적 오름차순 정렬 시 score_array의 인덱스: [0 2 4 1 3]\n",
      "성적 오름차순으로 name_array의 이름 출력: ['John' 'Sarah' 'Samuel' 'Mike' 'Kate']\n"
     ]
    }
   ],
   "source": [
    "import numpy as np\n",
    "\n",
    "name_array = np.array(['John', 'Mike', 'Sarah', 'Kate', 'Samuel'])\n",
    "score_array= np.array([78, 95, 84, 98, 88])\n",
    "\n",
    "sort_index_asc = np.argsort(score_array)\n",
    "print('성적 오름차순 정렬 시 score_array의 인덱스:', sort_index_asc)\n",
    "print('성적 오름차순으로 name_array의 이름 출력:', name_array[sort_index_asc])"
   ]
  },
  {
   "cell_type": "code",
   "execution_count": 107,
   "metadata": {},
   "outputs": [
    {
     "data": {
      "text/plain": [
       "array([0, 2, 4, 1, 3], dtype=int64)"
      ]
     },
     "execution_count": 107,
     "metadata": {},
     "output_type": "execute_result"
    }
   ],
   "source": [
    "sort_index_asc"
   ]
  },
  {
   "cell_type": "code",
   "execution_count": 110,
   "metadata": {},
   "outputs": [
    {
     "data": {
      "text/plain": [
       "array(['John', 'Mike', 'Sarah', 'Kate', 'Samuel'], dtype='<U6')"
      ]
     },
     "execution_count": 110,
     "metadata": {},
     "output_type": "execute_result"
    }
   ],
   "source": [
    "name_array"
   ]
  },
  {
   "cell_type": "code",
   "execution_count": 113,
   "metadata": {},
   "outputs": [
    {
     "data": {
      "text/plain": [
       "array(['John', 'Sarah', 'Mike'], dtype='<U6')"
      ]
     },
     "execution_count": 113,
     "metadata": {},
     "output_type": "execute_result"
    }
   ],
   "source": [
    "# 복수개 이상을 데려오고싶다? \n",
    "name_array[[0,2,1]]"
   ]
  },
  {
   "cell_type": "code",
   "execution_count": 114,
   "metadata": {},
   "outputs": [
    {
     "data": {
      "text/plain": [
       "array(['John', 'Sarah', 'Samuel', 'Mike', 'Kate'], dtype='<U6')"
      ]
     },
     "execution_count": 114,
     "metadata": {},
     "output_type": "execute_result"
    }
   ],
   "source": [
    "# name_array 내부에 \n",
    "#  np.argsort(score_array) 을 넣어서 불러내버리면\n",
    "name_array[np.argsort(score_array)]\n",
    "#  소팅 결과 + 이름만 보여주기가 된다! "
   ]
  },
  {
   "cell_type": "markdown",
   "metadata": {},
   "source": [
    "### 선형대수 연산 – 행렬 내적과 전치 행렬 구하기\n",
    "\n",
    "* 행렬 내적"
   ]
  },
  {
   "cell_type": "code",
   "execution_count": 105,
   "metadata": {},
   "outputs": [
    {
     "name": "stdout",
     "output_type": "stream",
     "text": [
      "행렬 내적 결과:\n",
      " [[ 58  64]\n",
      " [139 154]]\n"
     ]
    }
   ],
   "source": [
    "A = np.array([[1, 2, 3],\n",
    "              [4, 5, 6]])\n",
    "B = np.array([[7, 8],\n",
    "              [9, 10],\n",
    "              [11, 12]])\n",
    "\n",
    "dot_product = np.dot(A, B)\n",
    "print('행렬 내적 결과:\\n', dot_product)"
   ]
  },
  {
   "cell_type": "markdown",
   "metadata": {},
   "source": [
    "* 전치 행렬"
   ]
  },
  {
   "cell_type": "code",
   "execution_count": null,
   "metadata": {},
   "outputs": [],
   "source": [
    "A = np.array([[1, 2],\n",
    "              [3, 4]])\n",
    "transpose_mat = np.transpose(A)\n",
    "print('A의 전치 행렬:\\n', transpose_mat)"
   ]
  },
  {
   "cell_type": "code",
   "execution_count": null,
   "metadata": {},
   "outputs": [],
   "source": [
    "A = np.array([[1, 2],\n",
    "              [3, 4],\n",
    "              [5, 6]])\n",
    "transpose_mat = np.transpose(A)\n",
    "print('A의 전치 행렬:\\n', transpose_mat) ## shape : (3, 2) -> (2, 3)"
   ]
  }
 ],
 "metadata": {
  "kernelspec": {
   "display_name": "Python 3 (ipykernel)",
   "language": "python",
   "name": "python3"
  },
  "language_info": {
   "codemirror_mode": {
    "name": "ipython",
    "version": 3
   },
   "file_extension": ".py",
   "mimetype": "text/x-python",
   "name": "python",
   "nbconvert_exporter": "python",
   "pygments_lexer": "ipython3",
   "version": "3.9.13"
  },
  "toc": {
   "base_numbering": 1,
   "nav_menu": {},
   "number_sections": true,
   "sideBar": true,
   "skip_h1_title": false,
   "title_cell": "Table of Contents",
   "title_sidebar": "Contents",
   "toc_cell": false,
   "toc_position": {},
   "toc_section_display": true,
   "toc_window_display": false
  }
 },
 "nbformat": 4,
 "nbformat_minor": 2
}
