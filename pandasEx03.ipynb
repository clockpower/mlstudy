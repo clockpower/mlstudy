{
 "cells": [
  {
   "cell_type": "code",
   "execution_count": 340,
   "id": "2a530dc7",
   "metadata": {},
   "outputs": [],
   "source": [
    "# 기존의 dataframe 내에서 삭제 수정 등 진행해보기 \n",
    "import pandas  as pd "
   ]
  },
  {
   "cell_type": "code",
   "execution_count": 341,
   "id": "7cf5df25",
   "metadata": {},
   "outputs": [],
   "source": [
    "co1 = list(range(1,20,2))\n",
    "co2 = list(range(2,21,2))\n",
    "co3= list(range(10,110,10))\n",
    "df = pd.DataFrame(    \n",
    "   data=[co1,    co2,     co3],\n",
    "    index=['row1','row2','row3'],\n",
    "    columns=['co1','co2','co3','co4','co5','co6','co7','co8','co9','co10']\n",
    ")\n",
    "\n",
    "##row2를 삭제\n",
    "\n",
    "df.drop('row2')\n",
    "#어떤걸 리턴하냐? 원본이 아닌 삭제결과물을 return\n",
    "df = df.drop('row2')"
   ]
  },
  {
   "cell_type": "code",
   "execution_count": 342,
   "id": "14e15466",
   "metadata": {},
   "outputs": [
    {
     "data": {
      "text/html": [
       "<div>\n",
       "<style scoped>\n",
       "    .dataframe tbody tr th:only-of-type {\n",
       "        vertical-align: middle;\n",
       "    }\n",
       "\n",
       "    .dataframe tbody tr th {\n",
       "        vertical-align: top;\n",
       "    }\n",
       "\n",
       "    .dataframe thead th {\n",
       "        text-align: right;\n",
       "    }\n",
       "</style>\n",
       "<table border=\"1\" class=\"dataframe\">\n",
       "  <thead>\n",
       "    <tr style=\"text-align: right;\">\n",
       "      <th></th>\n",
       "      <th>co1</th>\n",
       "      <th>co2</th>\n",
       "      <th>co3</th>\n",
       "      <th>co4</th>\n",
       "      <th>co5</th>\n",
       "      <th>co6</th>\n",
       "      <th>co7</th>\n",
       "      <th>co8</th>\n",
       "      <th>co9</th>\n",
       "      <th>co10</th>\n",
       "    </tr>\n",
       "  </thead>\n",
       "  <tbody>\n",
       "    <tr>\n",
       "      <th>row1</th>\n",
       "      <td>1</td>\n",
       "      <td>3</td>\n",
       "      <td>5</td>\n",
       "      <td>7</td>\n",
       "      <td>9</td>\n",
       "      <td>11</td>\n",
       "      <td>13</td>\n",
       "      <td>15</td>\n",
       "      <td>17</td>\n",
       "      <td>19</td>\n",
       "    </tr>\n",
       "    <tr>\n",
       "      <th>row3</th>\n",
       "      <td>10</td>\n",
       "      <td>20</td>\n",
       "      <td>30</td>\n",
       "      <td>40</td>\n",
       "      <td>50</td>\n",
       "      <td>60</td>\n",
       "      <td>70</td>\n",
       "      <td>80</td>\n",
       "      <td>90</td>\n",
       "      <td>100</td>\n",
       "    </tr>\n",
       "  </tbody>\n",
       "</table>\n",
       "</div>"
      ],
      "text/plain": [
       "      co1  co2  co3  co4  co5  co6  co7  co8  co9  co10\n",
       "row1    1    3    5    7    9   11   13   15   17    19\n",
       "row3   10   20   30   40   50   60   70   80   90   100"
      ]
     },
     "execution_count": 342,
     "metadata": {},
     "output_type": "execute_result"
    }
   ],
   "source": [
    "df"
   ]
  },
  {
   "cell_type": "code",
   "execution_count": 343,
   "id": "de699a60",
   "metadata": {},
   "outputs": [
    {
     "name": "stdout",
     "output_type": "stream",
     "text": [
      "      co2  co3  co4  co6  co8  co9  co10\n",
      "row1    3    5    7   11   15   17    19\n",
      "row3   20   30   40   60   80   90   100\n"
     ]
    }
   ],
   "source": [
    "#특정 컬럼 골라서 삭제 \n",
    "#co1 삭제하기 원본적용 2-1 \n",
    "\n",
    "df=df.drop(labels='co1',axis=1)\n",
    "df=df.drop(labels=['co7','co5'],axis=1)\n",
    "print(df)"
   ]
  },
  {
   "cell_type": "code",
   "execution_count": 344,
   "id": "c49ee7d7",
   "metadata": {},
   "outputs": [
    {
     "name": "stdout",
     "output_type": "stream",
     "text": [
      "      co2  co3  co4  co6  co8  co9  co10  co11\n",
      "row1    3    5    7   11   15   17    19   100\n",
      "row3   20   30   40   60   80   90   100   200\n"
     ]
    }
   ],
   "source": [
    "#컬럼추가는 어떻게 \n",
    "df['co11'] = [100,200]\n",
    "print(df)"
   ]
  },
  {
   "cell_type": "code",
   "execution_count": 345,
   "id": "73be0cd4",
   "metadata": {},
   "outputs": [],
   "source": [
    "#df2['row2']=[2,4,6,8,10,12,14,16]\n",
    "##df 이름으로 접근할때 최초로마주하는 건 열이에요! \n",
    "## 행추가는 조금 다르게 접근을 해야해요 . \n",
    "df.loc['row2']=[2,4,6,8,10,12,14,500]\n",
    "\n",
    "# iloc 활용 추가 ??? 는 없다. \n",
    "#df.iloc[3]=[2,4,6,8,10,12,14,16,18,20] #  안되네요. \n",
    "#iloc 에는 애초에 존재하지 않는 인덱스이기에 할당조차 할수가 없는거에요 . \n",
    "#그래서 에러남!\n"
   ]
  },
  {
   "cell_type": "code",
   "execution_count": 346,
   "id": "261c8fa1",
   "metadata": {},
   "outputs": [],
   "source": [
    "# 특정 컬럼또는 행의위치  ##\n",
    "\n",
    "##  1-1 컬럼 col11위치 "
   ]
  },
  {
   "cell_type": "code",
   "execution_count": 347,
   "id": "e1319c0d",
   "metadata": {},
   "outputs": [
    {
     "data": {
      "text/html": [
       "<div>\n",
       "<style scoped>\n",
       "    .dataframe tbody tr th:only-of-type {\n",
       "        vertical-align: middle;\n",
       "    }\n",
       "\n",
       "    .dataframe tbody tr th {\n",
       "        vertical-align: top;\n",
       "    }\n",
       "\n",
       "    .dataframe thead th {\n",
       "        text-align: right;\n",
       "    }\n",
       "</style>\n",
       "<table border=\"1\" class=\"dataframe\">\n",
       "  <thead>\n",
       "    <tr style=\"text-align: right;\">\n",
       "      <th></th>\n",
       "      <th>co2</th>\n",
       "      <th>co3</th>\n",
       "      <th>co4</th>\n",
       "      <th>co6</th>\n",
       "      <th>co8</th>\n",
       "      <th>co9</th>\n",
       "      <th>co10</th>\n",
       "      <th>co11</th>\n",
       "    </tr>\n",
       "  </thead>\n",
       "  <tbody>\n",
       "    <tr>\n",
       "      <th>row2</th>\n",
       "      <td>2</td>\n",
       "      <td>4</td>\n",
       "      <td>6</td>\n",
       "      <td>8</td>\n",
       "      <td>10</td>\n",
       "      <td>12</td>\n",
       "      <td>14</td>\n",
       "      <td>500</td>\n",
       "    </tr>\n",
       "    <tr>\n",
       "      <th>row1</th>\n",
       "      <td>3</td>\n",
       "      <td>5</td>\n",
       "      <td>7</td>\n",
       "      <td>11</td>\n",
       "      <td>15</td>\n",
       "      <td>17</td>\n",
       "      <td>19</td>\n",
       "      <td>100</td>\n",
       "    </tr>\n",
       "    <tr>\n",
       "      <th>row3</th>\n",
       "      <td>20</td>\n",
       "      <td>30</td>\n",
       "      <td>40</td>\n",
       "      <td>60</td>\n",
       "      <td>80</td>\n",
       "      <td>90</td>\n",
       "      <td>100</td>\n",
       "      <td>200</td>\n",
       "    </tr>\n",
       "  </tbody>\n",
       "</table>\n",
       "</div>"
      ],
      "text/plain": [
       "      co2  co3  co4  co6  co8  co9  co10  co11\n",
       "row2    2    4    6    8   10   12    14   500\n",
       "row1    3    5    7   11   15   17    19   100\n",
       "row3   20   30   40   60   80   90   100   200"
      ]
     },
     "execution_count": 347,
     "metadata": {},
     "output_type": "execute_result"
    }
   ],
   "source": [
    "#정렬시켜주기 - 컬럼값기준으로 오름차순 정렬하기\n",
    " \n",
    "df.sort_values('co2')"
   ]
  },
  {
   "cell_type": "code",
   "execution_count": 348,
   "id": "d5de57e8",
   "metadata": {},
   "outputs": [
    {
     "name": "stdout",
     "output_type": "stream",
     "text": [
      "      co2  co3  co4  co6  co8  co9  co10  co11\n",
      "row3   20   30   40   60   80   90   100   200\n",
      "row1    3    5    7   11   15   17    19   100\n",
      "row2    2    4    6    8   10   12    14   500\n"
     ]
    }
   ],
   "source": [
    "# 2-2 정렬 , 컬럼값기준 - 내림차순 원본적용해버리기 ( inplace)\n",
    "\n",
    "df.sort_values('co2',ascending=False,inplace=True)\n",
    "print(df)\n"
   ]
  },
  {
   "cell_type": "code",
   "execution_count": 349,
   "id": "e49673cc",
   "metadata": {},
   "outputs": [],
   "source": [
    "#2-3 인덱스기준으로 오름차순 정렬해버리기; "
   ]
  },
  {
   "cell_type": "code",
   "execution_count": null,
   "id": "f1f7cb0f",
   "metadata": {},
   "outputs": [],
   "source": []
  },
  {
   "cell_type": "code",
   "execution_count": 350,
   "id": "f06b0d18",
   "metadata": {},
   "outputs": [
    {
     "data": {
      "text/html": [
       "<div>\n",
       "<style scoped>\n",
       "    .dataframe tbody tr th:only-of-type {\n",
       "        vertical-align: middle;\n",
       "    }\n",
       "\n",
       "    .dataframe tbody tr th {\n",
       "        vertical-align: top;\n",
       "    }\n",
       "\n",
       "    .dataframe thead th {\n",
       "        text-align: right;\n",
       "    }\n",
       "</style>\n",
       "<table border=\"1\" class=\"dataframe\">\n",
       "  <thead>\n",
       "    <tr style=\"text-align: right;\">\n",
       "      <th></th>\n",
       "      <th>column2!</th>\n",
       "      <th>co3</th>\n",
       "      <th>co4</th>\n",
       "      <th>co6</th>\n",
       "      <th>co8</th>\n",
       "      <th>co9</th>\n",
       "      <th>co10</th>\n",
       "      <th>co11</th>\n",
       "    </tr>\n",
       "  </thead>\n",
       "  <tbody>\n",
       "    <tr>\n",
       "      <th>row3</th>\n",
       "      <td>20</td>\n",
       "      <td>30</td>\n",
       "      <td>40</td>\n",
       "      <td>60</td>\n",
       "      <td>80</td>\n",
       "      <td>90</td>\n",
       "      <td>100</td>\n",
       "      <td>200</td>\n",
       "    </tr>\n",
       "    <tr>\n",
       "      <th>row1</th>\n",
       "      <td>3</td>\n",
       "      <td>5</td>\n",
       "      <td>7</td>\n",
       "      <td>11</td>\n",
       "      <td>15</td>\n",
       "      <td>17</td>\n",
       "      <td>19</td>\n",
       "      <td>100</td>\n",
       "    </tr>\n",
       "    <tr>\n",
       "      <th>row2</th>\n",
       "      <td>2</td>\n",
       "      <td>4</td>\n",
       "      <td>6</td>\n",
       "      <td>8</td>\n",
       "      <td>10</td>\n",
       "      <td>12</td>\n",
       "      <td>14</td>\n",
       "      <td>500</td>\n",
       "    </tr>\n",
       "  </tbody>\n",
       "</table>\n",
       "</div>"
      ],
      "text/plain": [
       "      column2!  co3  co4  co6  co8  co9  co10  co11\n",
       "row3        20   30   40   60   80   90   100   200\n",
       "row1         3    5    7   11   15   17    19   100\n",
       "row2         2    4    6    8   10   12    14   500"
      ]
     },
     "execution_count": 350,
     "metadata": {},
     "output_type": "execute_result"
    }
   ],
   "source": [
    "# 3 컬럼명 변경하기\n",
    "df.rename(columns={'co2': 'column2!'}, inplace=True)\n",
    "df"
   ]
  },
  {
   "cell_type": "code",
   "execution_count": 351,
   "id": "79218eb9",
   "metadata": {},
   "outputs": [
    {
     "data": {
      "text/plain": [
       "Int64Index([0, 1, 2, 3, 4, 5, 6, 7], dtype='int64')"
      ]
     },
     "execution_count": 351,
     "metadata": {},
     "output_type": "execute_result"
    }
   ],
   "source": [
    "# 컬럼전체를 0 ~ 7 까지 규칙적으로 뿌려주고 싶어요. 어떻게? \n",
    "#원하는 이름의문자열 컬럼명으로 변경 해보자 . \n",
    "# 위방식으로하면 써야할게 너무 많겠지. \n",
    "# \n",
    "#df.columns # 이것은 사실은 property 이다. \n",
    "# 파이썬은 모든데이터를 객체로 관리하고있다는것을 다시 기억해봅시다. 그러면 재할당을 해버리면 된다는것이죠 . \n",
    "# df.columns = ?? \n",
    "df.columns =[0,1,2,3,4,5,6,7]\n",
    "df.columns "
   ]
  },
  {
   "cell_type": "code",
   "execution_count": null,
   "id": "9775d208",
   "metadata": {},
   "outputs": [],
   "source": []
  }
 ],
 "metadata": {
  "kernelspec": {
   "display_name": "Python 3 (ipykernel)",
   "language": "python",
   "name": "python3"
  },
  "language_info": {
   "codemirror_mode": {
    "name": "ipython",
    "version": 3
   },
   "file_extension": ".py",
   "mimetype": "text/x-python",
   "name": "python",
   "nbconvert_exporter": "python",
   "pygments_lexer": "ipython3",
   "version": "3.9.13"
  }
 },
 "nbformat": 4,
 "nbformat_minor": 5
}
