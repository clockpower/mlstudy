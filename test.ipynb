{
 "cells": [
  {
   "cell_type": "code",
   "execution_count": null,
   "id": "e23f2842",
   "metadata": {},
   "outputs": [],
   "source": [
    "#ctrl  / \n",
    "\n",
    "num =5 \n",
    "print('Num >> ' , num )\n",
    "\n",
    "\n",
    "# 이번 쉘을 끝낸뒤에 다음 셀? 로 갈거에요 \n",
    "#  shift + enter 하면됩니다. \n",
    "#  셀을 실행한 횟수만큼 [  ]\n",
    "# 내부의 숫자가 올라갑니다. "
   ]
  },
  {
   "cell_type": "code",
   "execution_count": 18,
   "id": "8e4e3857",
   "metadata": {
    "scrolled": false
   },
   "outputs": [
    {
     "name": "stdout",
     "output_type": "stream",
     "text": [
      "Num >>  5\n"
     ]
    }
   ],
   "source": [
    "#\n",
    "# ctrl+shift +  - 하면  셀이 쪼개져요 \n",
    "# 셀에  커서 위치한곳 기준으로    압뒤 셀로 토막내버립니다. "
   ]
  },
  {
   "cell_type": "code",
   "execution_count": 22,
   "id": "b42804a3",
   "metadata": {},
   "outputs": [
    {
     "name": "stdout",
     "output_type": "stream",
     "text": [
      "num >>  5\n",
      "var >>  10\n"
     ]
    },
    {
     "data": {
      "text/plain": [
       "'\\n보통 변수만 둔 셀을 둘때가 있다. ?? 이게 아웃이라고. \\n\\n'"
      ]
     },
     "execution_count": 22,
     "metadata": {},
     "output_type": "execute_result"
    }
   ],
   "source": [
    "var = 10\n",
    "char = 'one'\n",
    "print('num >> ' , num )\n",
    "print('var >> ' , var )\n",
    "\n",
    "# 작업하다보면 좀 번거로워져서 안하게 되는데,  \n",
    "'''\n",
    "보통 변수만 둔 셀을 둘때가 있다. ?? 이게 아웃이라고. \n",
    "\n",
    "'''\n"
   ]
  },
  {
   "cell_type": "code",
   "execution_count": 26,
   "id": "b0616a19",
   "metadata": {},
   "outputs": [
    {
     "data": {
      "text/plain": [
       "'one'"
      ]
     },
     "execution_count": 26,
     "metadata": {},
     "output_type": "execute_result"
    }
   ],
   "source": [
    "char\n",
    "#print(char) 셀 하나에 단순히 char 써주면  \n",
    "#char 에 할당된 값이 Out 으로 출력 된다. \n",
    "# out 부분 따닥 왼클릭해주면. 감추기가됩다. 그래서 너무 창이 과하게 펼쳐지지 않고, \n",
    "#내가 보고싶은 데만 보이도록 처리할수있다. \n",
    "\n"
   ]
  },
  {
   "cell_type": "code",
   "execution_count": null,
   "id": "cced8a47",
   "metadata": {},
   "outputs": [],
   "source": []
  }
 ],
 "metadata": {
  "kernelspec": {
   "display_name": "Python 3 (ipykernel)",
   "language": "python",
   "name": "python3"
  },
  "language_info": {
   "codemirror_mode": {
    "name": "ipython",
    "version": 3
   },
   "file_extension": ".py",
   "mimetype": "text/x-python",
   "name": "python",
   "nbconvert_exporter": "python",
   "pygments_lexer": "ipython3",
   "version": "3.9.13"
  }
 },
 "nbformat": 4,
 "nbformat_minor": 5
}
